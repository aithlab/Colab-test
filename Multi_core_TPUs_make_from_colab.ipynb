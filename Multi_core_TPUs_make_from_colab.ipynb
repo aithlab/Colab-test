{
  "nbformat": 4,
  "nbformat_minor": 0,
  "metadata": {
    "accelerator": "TPU",
    "colab": {
      "name": "Multi_core_TPUs_make_from_colab.ipynb",
      "provenance": [],
      "collapsed_sections": []
    },
    "kernelspec": {
      "display_name": "Python 3",
      "language": "python",
      "name": "python3"
    },
    "language_info": {
      "codemirror_mode": {
        "name": "ipython",
        "version": 3
      },
      "file_extension": ".py",
      "mimetype": "text/x-python",
      "name": "python",
      "nbconvert_exporter": "python",
      "pygments_lexer": "ipython3",
      "version": "3.7.6"
    },
    "toc": {
      "base_numbering": 1,
      "nav_menu": {},
      "number_sections": true,
      "sideBar": true,
      "skip_h1_title": false,
      "title_cell": "Table of Contents",
      "title_sidebar": "Contents",
      "toc_cell": false,
      "toc_position": {
        "height": "calc(100% - 180px)",
        "left": "10px",
        "top": "150px",
        "width": "229.261px"
      },
      "toc_section_display": true,
      "toc_window_display": true
    },
    "varInspector": {
      "cols": {
        "lenName": 16,
        "lenType": 16,
        "lenVar": 40
      },
      "kernels_config": {
        "python": {
          "delete_cmd_postfix": "",
          "delete_cmd_prefix": "del ",
          "library": "var_list.py",
          "varRefreshCmd": "print(var_dic_list())"
        },
        "r": {
          "delete_cmd_postfix": ") ",
          "delete_cmd_prefix": "rm(",
          "library": "var_list.r",
          "varRefreshCmd": "cat(var_dic_list()) "
        }
      },
      "types_to_exclude": [
        "module",
        "function",
        "builtin_function_or_method",
        "instance",
        "_Feature"
      ],
      "window_display": false
    },
    "widgets": {
      "application/vnd.jupyter.widget-state+json": {
        "ef17b56490504b39879aac5651b6a35c": {
          "model_module": "@jupyter-widgets/controls",
          "model_name": "HBoxModel",
          "state": {
            "_view_name": "HBoxView",
            "_dom_classes": [],
            "_model_name": "HBoxModel",
            "_view_module": "@jupyter-widgets/controls",
            "_model_module_version": "1.5.0",
            "_view_count": null,
            "_view_module_version": "1.5.0",
            "box_style": "",
            "layout": "IPY_MODEL_2e42c2744fc44fd59b771da3524687bf",
            "_model_module": "@jupyter-widgets/controls",
            "children": [
              "IPY_MODEL_7daf7b1a97084799a31c39c5cda2dd16",
              "IPY_MODEL_8c64a44b1c2641818f022b09da179ff4"
            ]
          }
        },
        "2e42c2744fc44fd59b771da3524687bf": {
          "model_module": "@jupyter-widgets/base",
          "model_name": "LayoutModel",
          "state": {
            "_view_name": "LayoutView",
            "grid_template_rows": null,
            "right": null,
            "justify_content": null,
            "_view_module": "@jupyter-widgets/base",
            "overflow": null,
            "_model_module_version": "1.2.0",
            "_view_count": null,
            "flex_flow": null,
            "width": null,
            "min_width": null,
            "border": null,
            "align_items": null,
            "bottom": null,
            "_model_module": "@jupyter-widgets/base",
            "top": null,
            "grid_column": null,
            "overflow_y": null,
            "overflow_x": null,
            "grid_auto_flow": null,
            "grid_area": null,
            "grid_template_columns": null,
            "flex": null,
            "_model_name": "LayoutModel",
            "justify_items": null,
            "grid_row": null,
            "max_height": null,
            "align_content": null,
            "visibility": null,
            "align_self": null,
            "height": null,
            "min_height": null,
            "padding": null,
            "grid_auto_rows": null,
            "grid_gap": null,
            "max_width": null,
            "order": null,
            "_view_module_version": "1.2.0",
            "grid_template_areas": null,
            "object_position": null,
            "object_fit": null,
            "grid_auto_columns": null,
            "margin": null,
            "display": null,
            "left": null
          }
        },
        "7daf7b1a97084799a31c39c5cda2dd16": {
          "model_module": "@jupyter-widgets/controls",
          "model_name": "IntProgressModel",
          "state": {
            "_view_name": "ProgressView",
            "style": "IPY_MODEL_f1a2955579f04c24a076a9469da06376",
            "_dom_classes": [],
            "description": "",
            "_model_name": "IntProgressModel",
            "bar_style": "success",
            "max": 1,
            "_view_module": "@jupyter-widgets/controls",
            "_model_module_version": "1.5.0",
            "value": 1,
            "_view_count": null,
            "_view_module_version": "1.5.0",
            "orientation": "horizontal",
            "min": 0,
            "description_tooltip": null,
            "_model_module": "@jupyter-widgets/controls",
            "layout": "IPY_MODEL_127d67a8ba984b15b9f608af792330f4"
          }
        },
        "8c64a44b1c2641818f022b09da179ff4": {
          "model_module": "@jupyter-widgets/controls",
          "model_name": "HTMLModel",
          "state": {
            "_view_name": "HTMLView",
            "style": "IPY_MODEL_da5c33e6f5314c948126d71ddd8c5371",
            "_dom_classes": [],
            "description": "",
            "_model_name": "HTMLModel",
            "placeholder": "​",
            "_view_module": "@jupyter-widgets/controls",
            "_model_module_version": "1.5.0",
            "value": "9920512it [00:00, 19069392.45it/s]",
            "_view_count": null,
            "_view_module_version": "1.5.0",
            "description_tooltip": null,
            "_model_module": "@jupyter-widgets/controls",
            "layout": "IPY_MODEL_cf9a95b647a246ad9e692f6f56f3c98e"
          }
        },
        "f1a2955579f04c24a076a9469da06376": {
          "model_module": "@jupyter-widgets/controls",
          "model_name": "ProgressStyleModel",
          "state": {
            "_view_name": "StyleView",
            "_model_name": "ProgressStyleModel",
            "description_width": "",
            "_view_module": "@jupyter-widgets/base",
            "_model_module_version": "1.5.0",
            "_view_count": null,
            "_view_module_version": "1.2.0",
            "bar_color": null,
            "_model_module": "@jupyter-widgets/controls"
          }
        },
        "127d67a8ba984b15b9f608af792330f4": {
          "model_module": "@jupyter-widgets/base",
          "model_name": "LayoutModel",
          "state": {
            "_view_name": "LayoutView",
            "grid_template_rows": null,
            "right": null,
            "justify_content": null,
            "_view_module": "@jupyter-widgets/base",
            "overflow": null,
            "_model_module_version": "1.2.0",
            "_view_count": null,
            "flex_flow": null,
            "width": null,
            "min_width": null,
            "border": null,
            "align_items": null,
            "bottom": null,
            "_model_module": "@jupyter-widgets/base",
            "top": null,
            "grid_column": null,
            "overflow_y": null,
            "overflow_x": null,
            "grid_auto_flow": null,
            "grid_area": null,
            "grid_template_columns": null,
            "flex": null,
            "_model_name": "LayoutModel",
            "justify_items": null,
            "grid_row": null,
            "max_height": null,
            "align_content": null,
            "visibility": null,
            "align_self": null,
            "height": null,
            "min_height": null,
            "padding": null,
            "grid_auto_rows": null,
            "grid_gap": null,
            "max_width": null,
            "order": null,
            "_view_module_version": "1.2.0",
            "grid_template_areas": null,
            "object_position": null,
            "object_fit": null,
            "grid_auto_columns": null,
            "margin": null,
            "display": null,
            "left": null
          }
        },
        "da5c33e6f5314c948126d71ddd8c5371": {
          "model_module": "@jupyter-widgets/controls",
          "model_name": "DescriptionStyleModel",
          "state": {
            "_view_name": "StyleView",
            "_model_name": "DescriptionStyleModel",
            "description_width": "",
            "_view_module": "@jupyter-widgets/base",
            "_model_module_version": "1.5.0",
            "_view_count": null,
            "_view_module_version": "1.2.0",
            "_model_module": "@jupyter-widgets/controls"
          }
        },
        "cf9a95b647a246ad9e692f6f56f3c98e": {
          "model_module": "@jupyter-widgets/base",
          "model_name": "LayoutModel",
          "state": {
            "_view_name": "LayoutView",
            "grid_template_rows": null,
            "right": null,
            "justify_content": null,
            "_view_module": "@jupyter-widgets/base",
            "overflow": null,
            "_model_module_version": "1.2.0",
            "_view_count": null,
            "flex_flow": null,
            "width": null,
            "min_width": null,
            "border": null,
            "align_items": null,
            "bottom": null,
            "_model_module": "@jupyter-widgets/base",
            "top": null,
            "grid_column": null,
            "overflow_y": null,
            "overflow_x": null,
            "grid_auto_flow": null,
            "grid_area": null,
            "grid_template_columns": null,
            "flex": null,
            "_model_name": "LayoutModel",
            "justify_items": null,
            "grid_row": null,
            "max_height": null,
            "align_content": null,
            "visibility": null,
            "align_self": null,
            "height": null,
            "min_height": null,
            "padding": null,
            "grid_auto_rows": null,
            "grid_gap": null,
            "max_width": null,
            "order": null,
            "_view_module_version": "1.2.0",
            "grid_template_areas": null,
            "object_position": null,
            "object_fit": null,
            "grid_auto_columns": null,
            "margin": null,
            "display": null,
            "left": null
          }
        },
        "3b14ba1c675e49d0be8e906775f9f24c": {
          "model_module": "@jupyter-widgets/controls",
          "model_name": "HBoxModel",
          "state": {
            "_view_name": "HBoxView",
            "_dom_classes": [],
            "_model_name": "HBoxModel",
            "_view_module": "@jupyter-widgets/controls",
            "_model_module_version": "1.5.0",
            "_view_count": null,
            "_view_module_version": "1.5.0",
            "box_style": "",
            "layout": "IPY_MODEL_ccc337cde7c848469834207930fced0f",
            "_model_module": "@jupyter-widgets/controls",
            "children": [
              "IPY_MODEL_209e947eafd740318bd3ee2876dc8563",
              "IPY_MODEL_26dfdf86a7c4424b862ac4b5b1cffa9e"
            ]
          }
        },
        "ccc337cde7c848469834207930fced0f": {
          "model_module": "@jupyter-widgets/base",
          "model_name": "LayoutModel",
          "state": {
            "_view_name": "LayoutView",
            "grid_template_rows": null,
            "right": null,
            "justify_content": null,
            "_view_module": "@jupyter-widgets/base",
            "overflow": null,
            "_model_module_version": "1.2.0",
            "_view_count": null,
            "flex_flow": null,
            "width": null,
            "min_width": null,
            "border": null,
            "align_items": null,
            "bottom": null,
            "_model_module": "@jupyter-widgets/base",
            "top": null,
            "grid_column": null,
            "overflow_y": null,
            "overflow_x": null,
            "grid_auto_flow": null,
            "grid_area": null,
            "grid_template_columns": null,
            "flex": null,
            "_model_name": "LayoutModel",
            "justify_items": null,
            "grid_row": null,
            "max_height": null,
            "align_content": null,
            "visibility": null,
            "align_self": null,
            "height": null,
            "min_height": null,
            "padding": null,
            "grid_auto_rows": null,
            "grid_gap": null,
            "max_width": null,
            "order": null,
            "_view_module_version": "1.2.0",
            "grid_template_areas": null,
            "object_position": null,
            "object_fit": null,
            "grid_auto_columns": null,
            "margin": null,
            "display": null,
            "left": null
          }
        },
        "209e947eafd740318bd3ee2876dc8563": {
          "model_module": "@jupyter-widgets/controls",
          "model_name": "IntProgressModel",
          "state": {
            "_view_name": "ProgressView",
            "style": "IPY_MODEL_571d18156d1742f7afd98955507beb9c",
            "_dom_classes": [],
            "description": "",
            "_model_name": "IntProgressModel",
            "bar_style": "success",
            "max": 1,
            "_view_module": "@jupyter-widgets/controls",
            "_model_module_version": "1.5.0",
            "value": 1,
            "_view_count": null,
            "_view_module_version": "1.5.0",
            "orientation": "horizontal",
            "min": 0,
            "description_tooltip": null,
            "_model_module": "@jupyter-widgets/controls",
            "layout": "IPY_MODEL_6ff8bd6d77b24b05ac75dbe379c0d446"
          }
        },
        "26dfdf86a7c4424b862ac4b5b1cffa9e": {
          "model_module": "@jupyter-widgets/controls",
          "model_name": "HTMLModel",
          "state": {
            "_view_name": "HTMLView",
            "style": "IPY_MODEL_ea98012ffbf844bbb26850976a9b4037",
            "_dom_classes": [],
            "description": "",
            "_model_name": "HTMLModel",
            "placeholder": "​",
            "_view_module": "@jupyter-widgets/controls",
            "_model_module_version": "1.5.0",
            "value": "32768it [00:00, 261634.49it/s]",
            "_view_count": null,
            "_view_module_version": "1.5.0",
            "description_tooltip": null,
            "_model_module": "@jupyter-widgets/controls",
            "layout": "IPY_MODEL_627f6fe26fcf4a3eb5a19b41bff929f3"
          }
        },
        "571d18156d1742f7afd98955507beb9c": {
          "model_module": "@jupyter-widgets/controls",
          "model_name": "ProgressStyleModel",
          "state": {
            "_view_name": "StyleView",
            "_model_name": "ProgressStyleModel",
            "description_width": "",
            "_view_module": "@jupyter-widgets/base",
            "_model_module_version": "1.5.0",
            "_view_count": null,
            "_view_module_version": "1.2.0",
            "bar_color": null,
            "_model_module": "@jupyter-widgets/controls"
          }
        },
        "6ff8bd6d77b24b05ac75dbe379c0d446": {
          "model_module": "@jupyter-widgets/base",
          "model_name": "LayoutModel",
          "state": {
            "_view_name": "LayoutView",
            "grid_template_rows": null,
            "right": null,
            "justify_content": null,
            "_view_module": "@jupyter-widgets/base",
            "overflow": null,
            "_model_module_version": "1.2.0",
            "_view_count": null,
            "flex_flow": null,
            "width": null,
            "min_width": null,
            "border": null,
            "align_items": null,
            "bottom": null,
            "_model_module": "@jupyter-widgets/base",
            "top": null,
            "grid_column": null,
            "overflow_y": null,
            "overflow_x": null,
            "grid_auto_flow": null,
            "grid_area": null,
            "grid_template_columns": null,
            "flex": null,
            "_model_name": "LayoutModel",
            "justify_items": null,
            "grid_row": null,
            "max_height": null,
            "align_content": null,
            "visibility": null,
            "align_self": null,
            "height": null,
            "min_height": null,
            "padding": null,
            "grid_auto_rows": null,
            "grid_gap": null,
            "max_width": null,
            "order": null,
            "_view_module_version": "1.2.0",
            "grid_template_areas": null,
            "object_position": null,
            "object_fit": null,
            "grid_auto_columns": null,
            "margin": null,
            "display": null,
            "left": null
          }
        },
        "ea98012ffbf844bbb26850976a9b4037": {
          "model_module": "@jupyter-widgets/controls",
          "model_name": "DescriptionStyleModel",
          "state": {
            "_view_name": "StyleView",
            "_model_name": "DescriptionStyleModel",
            "description_width": "",
            "_view_module": "@jupyter-widgets/base",
            "_model_module_version": "1.5.0",
            "_view_count": null,
            "_view_module_version": "1.2.0",
            "_model_module": "@jupyter-widgets/controls"
          }
        },
        "627f6fe26fcf4a3eb5a19b41bff929f3": {
          "model_module": "@jupyter-widgets/base",
          "model_name": "LayoutModel",
          "state": {
            "_view_name": "LayoutView",
            "grid_template_rows": null,
            "right": null,
            "justify_content": null,
            "_view_module": "@jupyter-widgets/base",
            "overflow": null,
            "_model_module_version": "1.2.0",
            "_view_count": null,
            "flex_flow": null,
            "width": null,
            "min_width": null,
            "border": null,
            "align_items": null,
            "bottom": null,
            "_model_module": "@jupyter-widgets/base",
            "top": null,
            "grid_column": null,
            "overflow_y": null,
            "overflow_x": null,
            "grid_auto_flow": null,
            "grid_area": null,
            "grid_template_columns": null,
            "flex": null,
            "_model_name": "LayoutModel",
            "justify_items": null,
            "grid_row": null,
            "max_height": null,
            "align_content": null,
            "visibility": null,
            "align_self": null,
            "height": null,
            "min_height": null,
            "padding": null,
            "grid_auto_rows": null,
            "grid_gap": null,
            "max_width": null,
            "order": null,
            "_view_module_version": "1.2.0",
            "grid_template_areas": null,
            "object_position": null,
            "object_fit": null,
            "grid_auto_columns": null,
            "margin": null,
            "display": null,
            "left": null
          }
        },
        "354c2739a0464105a063b2b7587b90d9": {
          "model_module": "@jupyter-widgets/controls",
          "model_name": "HBoxModel",
          "state": {
            "_view_name": "HBoxView",
            "_dom_classes": [],
            "_model_name": "HBoxModel",
            "_view_module": "@jupyter-widgets/controls",
            "_model_module_version": "1.5.0",
            "_view_count": null,
            "_view_module_version": "1.5.0",
            "box_style": "",
            "layout": "IPY_MODEL_8e59df3f9e724859af2457e67b24d2f6",
            "_model_module": "@jupyter-widgets/controls",
            "children": [
              "IPY_MODEL_aee370ce918640cd94e957cd6873893e",
              "IPY_MODEL_d9759b9909944f848f0c8f774c8a7685"
            ]
          }
        },
        "8e59df3f9e724859af2457e67b24d2f6": {
          "model_module": "@jupyter-widgets/base",
          "model_name": "LayoutModel",
          "state": {
            "_view_name": "LayoutView",
            "grid_template_rows": null,
            "right": null,
            "justify_content": null,
            "_view_module": "@jupyter-widgets/base",
            "overflow": null,
            "_model_module_version": "1.2.0",
            "_view_count": null,
            "flex_flow": null,
            "width": null,
            "min_width": null,
            "border": null,
            "align_items": null,
            "bottom": null,
            "_model_module": "@jupyter-widgets/base",
            "top": null,
            "grid_column": null,
            "overflow_y": null,
            "overflow_x": null,
            "grid_auto_flow": null,
            "grid_area": null,
            "grid_template_columns": null,
            "flex": null,
            "_model_name": "LayoutModel",
            "justify_items": null,
            "grid_row": null,
            "max_height": null,
            "align_content": null,
            "visibility": null,
            "align_self": null,
            "height": null,
            "min_height": null,
            "padding": null,
            "grid_auto_rows": null,
            "grid_gap": null,
            "max_width": null,
            "order": null,
            "_view_module_version": "1.2.0",
            "grid_template_areas": null,
            "object_position": null,
            "object_fit": null,
            "grid_auto_columns": null,
            "margin": null,
            "display": null,
            "left": null
          }
        },
        "aee370ce918640cd94e957cd6873893e": {
          "model_module": "@jupyter-widgets/controls",
          "model_name": "IntProgressModel",
          "state": {
            "_view_name": "ProgressView",
            "style": "IPY_MODEL_44ef39cb321940288eda47808052d287",
            "_dom_classes": [],
            "description": "",
            "_model_name": "IntProgressModel",
            "bar_style": "success",
            "max": 1,
            "_view_module": "@jupyter-widgets/controls",
            "_model_module_version": "1.5.0",
            "value": 1,
            "_view_count": null,
            "_view_module_version": "1.5.0",
            "orientation": "horizontal",
            "min": 0,
            "description_tooltip": null,
            "_model_module": "@jupyter-widgets/controls",
            "layout": "IPY_MODEL_ae00c93c9e744022965c91806e48e4cb"
          }
        },
        "d9759b9909944f848f0c8f774c8a7685": {
          "model_module": "@jupyter-widgets/controls",
          "model_name": "HTMLModel",
          "state": {
            "_view_name": "HTMLView",
            "style": "IPY_MODEL_819712848959428e8b52c5a7b4d0cf80",
            "_dom_classes": [],
            "description": "",
            "_model_name": "HTMLModel",
            "placeholder": "​",
            "_view_module": "@jupyter-widgets/controls",
            "_model_module_version": "1.5.0",
            "value": "1654784it [00:00, 5138570.48it/s]",
            "_view_count": null,
            "_view_module_version": "1.5.0",
            "description_tooltip": null,
            "_model_module": "@jupyter-widgets/controls",
            "layout": "IPY_MODEL_f6393a23a4d6435a8555aa80e4a91455"
          }
        },
        "44ef39cb321940288eda47808052d287": {
          "model_module": "@jupyter-widgets/controls",
          "model_name": "ProgressStyleModel",
          "state": {
            "_view_name": "StyleView",
            "_model_name": "ProgressStyleModel",
            "description_width": "",
            "_view_module": "@jupyter-widgets/base",
            "_model_module_version": "1.5.0",
            "_view_count": null,
            "_view_module_version": "1.2.0",
            "bar_color": null,
            "_model_module": "@jupyter-widgets/controls"
          }
        },
        "ae00c93c9e744022965c91806e48e4cb": {
          "model_module": "@jupyter-widgets/base",
          "model_name": "LayoutModel",
          "state": {
            "_view_name": "LayoutView",
            "grid_template_rows": null,
            "right": null,
            "justify_content": null,
            "_view_module": "@jupyter-widgets/base",
            "overflow": null,
            "_model_module_version": "1.2.0",
            "_view_count": null,
            "flex_flow": null,
            "width": null,
            "min_width": null,
            "border": null,
            "align_items": null,
            "bottom": null,
            "_model_module": "@jupyter-widgets/base",
            "top": null,
            "grid_column": null,
            "overflow_y": null,
            "overflow_x": null,
            "grid_auto_flow": null,
            "grid_area": null,
            "grid_template_columns": null,
            "flex": null,
            "_model_name": "LayoutModel",
            "justify_items": null,
            "grid_row": null,
            "max_height": null,
            "align_content": null,
            "visibility": null,
            "align_self": null,
            "height": null,
            "min_height": null,
            "padding": null,
            "grid_auto_rows": null,
            "grid_gap": null,
            "max_width": null,
            "order": null,
            "_view_module_version": "1.2.0",
            "grid_template_areas": null,
            "object_position": null,
            "object_fit": null,
            "grid_auto_columns": null,
            "margin": null,
            "display": null,
            "left": null
          }
        },
        "819712848959428e8b52c5a7b4d0cf80": {
          "model_module": "@jupyter-widgets/controls",
          "model_name": "DescriptionStyleModel",
          "state": {
            "_view_name": "StyleView",
            "_model_name": "DescriptionStyleModel",
            "description_width": "",
            "_view_module": "@jupyter-widgets/base",
            "_model_module_version": "1.5.0",
            "_view_count": null,
            "_view_module_version": "1.2.0",
            "_model_module": "@jupyter-widgets/controls"
          }
        },
        "f6393a23a4d6435a8555aa80e4a91455": {
          "model_module": "@jupyter-widgets/base",
          "model_name": "LayoutModel",
          "state": {
            "_view_name": "LayoutView",
            "grid_template_rows": null,
            "right": null,
            "justify_content": null,
            "_view_module": "@jupyter-widgets/base",
            "overflow": null,
            "_model_module_version": "1.2.0",
            "_view_count": null,
            "flex_flow": null,
            "width": null,
            "min_width": null,
            "border": null,
            "align_items": null,
            "bottom": null,
            "_model_module": "@jupyter-widgets/base",
            "top": null,
            "grid_column": null,
            "overflow_y": null,
            "overflow_x": null,
            "grid_auto_flow": null,
            "grid_area": null,
            "grid_template_columns": null,
            "flex": null,
            "_model_name": "LayoutModel",
            "justify_items": null,
            "grid_row": null,
            "max_height": null,
            "align_content": null,
            "visibility": null,
            "align_self": null,
            "height": null,
            "min_height": null,
            "padding": null,
            "grid_auto_rows": null,
            "grid_gap": null,
            "max_width": null,
            "order": null,
            "_view_module_version": "1.2.0",
            "grid_template_areas": null,
            "object_position": null,
            "object_fit": null,
            "grid_auto_columns": null,
            "margin": null,
            "display": null,
            "left": null
          }
        },
        "536a3dd77b81496ebee3646fdc6ad417": {
          "model_module": "@jupyter-widgets/controls",
          "model_name": "HBoxModel",
          "state": {
            "_view_name": "HBoxView",
            "_dom_classes": [],
            "_model_name": "HBoxModel",
            "_view_module": "@jupyter-widgets/controls",
            "_model_module_version": "1.5.0",
            "_view_count": null,
            "_view_module_version": "1.5.0",
            "box_style": "",
            "layout": "IPY_MODEL_a83367695125406585ba6dcc21c71efe",
            "_model_module": "@jupyter-widgets/controls",
            "children": [
              "IPY_MODEL_d0cbec565e124b5186fbc4972bafc0e9",
              "IPY_MODEL_cffe32e3e3f5469aa434ce98592d6062"
            ]
          }
        },
        "a83367695125406585ba6dcc21c71efe": {
          "model_module": "@jupyter-widgets/base",
          "model_name": "LayoutModel",
          "state": {
            "_view_name": "LayoutView",
            "grid_template_rows": null,
            "right": null,
            "justify_content": null,
            "_view_module": "@jupyter-widgets/base",
            "overflow": null,
            "_model_module_version": "1.2.0",
            "_view_count": null,
            "flex_flow": null,
            "width": null,
            "min_width": null,
            "border": null,
            "align_items": null,
            "bottom": null,
            "_model_module": "@jupyter-widgets/base",
            "top": null,
            "grid_column": null,
            "overflow_y": null,
            "overflow_x": null,
            "grid_auto_flow": null,
            "grid_area": null,
            "grid_template_columns": null,
            "flex": null,
            "_model_name": "LayoutModel",
            "justify_items": null,
            "grid_row": null,
            "max_height": null,
            "align_content": null,
            "visibility": null,
            "align_self": null,
            "height": null,
            "min_height": null,
            "padding": null,
            "grid_auto_rows": null,
            "grid_gap": null,
            "max_width": null,
            "order": null,
            "_view_module_version": "1.2.0",
            "grid_template_areas": null,
            "object_position": null,
            "object_fit": null,
            "grid_auto_columns": null,
            "margin": null,
            "display": null,
            "left": null
          }
        },
        "d0cbec565e124b5186fbc4972bafc0e9": {
          "model_module": "@jupyter-widgets/controls",
          "model_name": "IntProgressModel",
          "state": {
            "_view_name": "ProgressView",
            "style": "IPY_MODEL_8fbb3d10e4e34971b29fc389ed56d169",
            "_dom_classes": [],
            "description": "",
            "_model_name": "IntProgressModel",
            "bar_style": "success",
            "max": 1,
            "_view_module": "@jupyter-widgets/controls",
            "_model_module_version": "1.5.0",
            "value": 1,
            "_view_count": null,
            "_view_module_version": "1.5.0",
            "orientation": "horizontal",
            "min": 0,
            "description_tooltip": null,
            "_model_module": "@jupyter-widgets/controls",
            "layout": "IPY_MODEL_fdbc3fb2fdd246ecbd94fc781bd2d670"
          }
        },
        "cffe32e3e3f5469aa434ce98592d6062": {
          "model_module": "@jupyter-widgets/controls",
          "model_name": "HTMLModel",
          "state": {
            "_view_name": "HTMLView",
            "style": "IPY_MODEL_e874a0a7452b4a2d9b7898e193238d07",
            "_dom_classes": [],
            "description": "",
            "_model_name": "HTMLModel",
            "placeholder": "​",
            "_view_module": "@jupyter-widgets/controls",
            "_model_module_version": "1.5.0",
            "value": "8192it [00:00, 96595.08it/s]",
            "_view_count": null,
            "_view_module_version": "1.5.0",
            "description_tooltip": null,
            "_model_module": "@jupyter-widgets/controls",
            "layout": "IPY_MODEL_143e188e12124a8a8dc5d81f39a40fc6"
          }
        },
        "8fbb3d10e4e34971b29fc389ed56d169": {
          "model_module": "@jupyter-widgets/controls",
          "model_name": "ProgressStyleModel",
          "state": {
            "_view_name": "StyleView",
            "_model_name": "ProgressStyleModel",
            "description_width": "",
            "_view_module": "@jupyter-widgets/base",
            "_model_module_version": "1.5.0",
            "_view_count": null,
            "_view_module_version": "1.2.0",
            "bar_color": null,
            "_model_module": "@jupyter-widgets/controls"
          }
        },
        "fdbc3fb2fdd246ecbd94fc781bd2d670": {
          "model_module": "@jupyter-widgets/base",
          "model_name": "LayoutModel",
          "state": {
            "_view_name": "LayoutView",
            "grid_template_rows": null,
            "right": null,
            "justify_content": null,
            "_view_module": "@jupyter-widgets/base",
            "overflow": null,
            "_model_module_version": "1.2.0",
            "_view_count": null,
            "flex_flow": null,
            "width": null,
            "min_width": null,
            "border": null,
            "align_items": null,
            "bottom": null,
            "_model_module": "@jupyter-widgets/base",
            "top": null,
            "grid_column": null,
            "overflow_y": null,
            "overflow_x": null,
            "grid_auto_flow": null,
            "grid_area": null,
            "grid_template_columns": null,
            "flex": null,
            "_model_name": "LayoutModel",
            "justify_items": null,
            "grid_row": null,
            "max_height": null,
            "align_content": null,
            "visibility": null,
            "align_self": null,
            "height": null,
            "min_height": null,
            "padding": null,
            "grid_auto_rows": null,
            "grid_gap": null,
            "max_width": null,
            "order": null,
            "_view_module_version": "1.2.0",
            "grid_template_areas": null,
            "object_position": null,
            "object_fit": null,
            "grid_auto_columns": null,
            "margin": null,
            "display": null,
            "left": null
          }
        },
        "e874a0a7452b4a2d9b7898e193238d07": {
          "model_module": "@jupyter-widgets/controls",
          "model_name": "DescriptionStyleModel",
          "state": {
            "_view_name": "StyleView",
            "_model_name": "DescriptionStyleModel",
            "description_width": "",
            "_view_module": "@jupyter-widgets/base",
            "_model_module_version": "1.5.0",
            "_view_count": null,
            "_view_module_version": "1.2.0",
            "_model_module": "@jupyter-widgets/controls"
          }
        },
        "143e188e12124a8a8dc5d81f39a40fc6": {
          "model_module": "@jupyter-widgets/base",
          "model_name": "LayoutModel",
          "state": {
            "_view_name": "LayoutView",
            "grid_template_rows": null,
            "right": null,
            "justify_content": null,
            "_view_module": "@jupyter-widgets/base",
            "overflow": null,
            "_model_module_version": "1.2.0",
            "_view_count": null,
            "flex_flow": null,
            "width": null,
            "min_width": null,
            "border": null,
            "align_items": null,
            "bottom": null,
            "_model_module": "@jupyter-widgets/base",
            "top": null,
            "grid_column": null,
            "overflow_y": null,
            "overflow_x": null,
            "grid_auto_flow": null,
            "grid_area": null,
            "grid_template_columns": null,
            "flex": null,
            "_model_name": "LayoutModel",
            "justify_items": null,
            "grid_row": null,
            "max_height": null,
            "align_content": null,
            "visibility": null,
            "align_self": null,
            "height": null,
            "min_height": null,
            "padding": null,
            "grid_auto_rows": null,
            "grid_gap": null,
            "max_width": null,
            "order": null,
            "_view_module_version": "1.2.0",
            "grid_template_areas": null,
            "object_position": null,
            "object_fit": null,
            "grid_auto_columns": null,
            "margin": null,
            "display": null,
            "left": null
          }
        }
      }
    }
  },
  "cells": [
    {
      "cell_type": "markdown",
      "metadata": {
        "colab_type": "text",
        "id": "IcwgWUpxFzzI"
      },
      "source": [
        "# Install pytorch-xla to use multiple TPUs"
      ]
    },
    {
      "cell_type": "code",
      "metadata": {
        "colab_type": "code",
        "id": "xB1J7uRAFzzN",
        "outputId": "9de95511-d806-4246-d3c7-c12e64f0954d",
        "colab": {
          "base_uri": "https://localhost:8080/",
          "height": 1000
        }
      },
      "source": [
        "import os\n",
        "assert os.environ['COLAB_TPU_ADDR'], 'Make sure to select TPU from Edit > Notebook settings > Hardware accelerator'\n",
        "\n",
        "VERSION = \"20200220\"#\"xrt==1.15.0\"\n",
        "!curl https://raw.githubusercontent.com/pytorch/xla/master/contrib/scripts/env-setup.py -o pytorch-xla-env-setup.py\n",
        "!python pytorch-xla-env-setup.py --version $VERSION"
      ],
      "execution_count": 1,
      "outputs": [
        {
          "output_type": "stream",
          "text": [
            "  % Total    % Received % Xferd  Average Speed   Time    Time     Time  Current\n",
            "                                 Dload  Upload   Total   Spent    Left  Speed\n",
            "\r  0     0    0     0    0     0      0      0 --:--:-- --:--:-- --:--:--     0\r100  3566  100  3566    0     0  49527      0 --:--:-- --:--:-- --:--:-- 50225\n",
            "Updating TPU and VM. This may take around 2 minutes.\n",
            "Updating TPU runtime to 20200220 ...\n",
            "Uninstalling torch-1.4.0:\n",
            "Done updating TPU runtime: <Response [200]>\n",
            "  Successfully uninstalled torch-1.4.0\n",
            "Uninstalling torchvision-0.5.0:\n",
            "  Successfully uninstalled torchvision-0.5.0\n",
            "Copying gs://tpu-pytorch/wheels/torch-nightly+20200220-cp36-cp36m-linux_x86_64.whl...\n",
            "- [1 files][ 79.6 MiB/ 79.6 MiB]                                                \n",
            "Operation completed over 1 objects/79.6 MiB.                                     \n",
            "Copying gs://tpu-pytorch/wheels/torch_xla-nightly+20200220-cp36-cp36m-linux_x86_64.whl...\n",
            "- [1 files][111.9 MiB/111.9 MiB]                                                \n",
            "Operation completed over 1 objects/111.9 MiB.                                    \n",
            "Copying gs://tpu-pytorch/wheels/torchvision-nightly+20200220-cp36-cp36m-linux_x86_64.whl...\n",
            "/ [1 files][  2.5 MiB/  2.5 MiB]                                                \n",
            "Operation completed over 1 objects/2.5 MiB.                                      \n",
            "Processing ./torch-nightly+20200220-cp36-cp36m-linux_x86_64.whl\n",
            "\u001b[31mERROR: fastai 1.0.60 requires torchvision, which is not installed.\u001b[0m\n",
            "Installing collected packages: torch\n",
            "Successfully installed torch-1.5.0a0+e95282a\n",
            "Processing ./torch_xla-nightly+20200220-cp36-cp36m-linux_x86_64.whl\n",
            "Installing collected packages: torch-xla\n",
            "Successfully installed torch-xla-0.8+58cc64c\n",
            "Processing ./torchvision-nightly+20200220-cp36-cp36m-linux_x86_64.whl\n",
            "Requirement already satisfied: pillow>=4.1.1 in /usr/local/lib/python3.6/dist-packages (from torchvision==nightly+20200220) (6.2.2)\n",
            "Requirement already satisfied: six in /usr/local/lib/python3.6/dist-packages (from torchvision==nightly+20200220) (1.12.0)\n",
            "Requirement already satisfied: torch in /usr/local/lib/python3.6/dist-packages (from torchvision==nightly+20200220) (1.5.0a0+e95282a)\n",
            "Requirement already satisfied: numpy in /usr/local/lib/python3.6/dist-packages (from torchvision==nightly+20200220) (1.17.5)\n",
            "Installing collected packages: torchvision\n",
            "Successfully installed torchvision-0.6.0a0+6c2cda6\n",
            "Reading package lists... Done\n",
            "Building dependency tree       \n",
            "Reading state information... Done\n",
            "The following package was automatically installed and is no longer required:\n",
            "  libnvidia-common-430\n",
            "Use 'sudo apt autoremove' to remove it.\n",
            "The following NEW packages will be installed:\n",
            "  libomp5\n",
            "0 upgraded, 1 newly installed, 0 to remove and 25 not upgraded.\n",
            "Need to get 234 kB of archives.\n",
            "After this operation, 774 kB of additional disk space will be used.\n",
            "Get:1 http://archive.ubuntu.com/ubuntu bionic/universe amd64 libomp5 amd64 5.0.1-1 [234 kB]\n",
            "Fetched 234 kB in 1s (385 kB/s)\n",
            "debconf: unable to initialize frontend: Dialog\n",
            "debconf: (No usable dialog-like program is installed, so the dialog based frontend cannot be used. at /usr/share/perl5/Debconf/FrontEnd/Dialog.pm line 76, <> line 1.)\n",
            "debconf: falling back to frontend: Readline\n",
            "debconf: unable to initialize frontend: Readline\n",
            "debconf: (This frontend requires a controlling tty.)\n",
            "debconf: falling back to frontend: Teletype\n",
            "dpkg-preconfigure: unable to re-open stdin: \n",
            "Selecting previously unselected package libomp5:amd64.\n",
            "(Reading database ... 134443 files and directories currently installed.)\n",
            "Preparing to unpack .../libomp5_5.0.1-1_amd64.deb ...\n",
            "Unpacking libomp5:amd64 (5.0.1-1) ...\n",
            "Setting up libomp5:amd64 (5.0.1-1) ...\n",
            "Processing triggers for libc-bin (2.27-3ubuntu1) ...\n",
            "/sbin/ldconfig.real: /usr/local/lib/python3.6/dist-packages/ideep4py/lib/libmkldnn.so.0 is not a symbolic link\n",
            "\n"
          ],
          "name": "stdout"
        }
      ]
    },
    {
      "cell_type": "markdown",
      "metadata": {
        "colab_type": "text",
        "id": "dHA8NJORFzzU"
      },
      "source": [
        "# Import libraries "
      ]
    },
    {
      "cell_type": "code",
      "metadata": {
        "colab_type": "code",
        "id": "OLnCmD_LFzzY",
        "colab": {}
      },
      "source": [
        "import torch\n",
        "import torch.nn as nn\n",
        "import torch.nn.functional as F\n",
        "import torch.optim as optim\n",
        "\n",
        "from torchvision import datasets, transforms\n",
        "from torch.optim.lr_scheduler import StepLR\n",
        "\n",
        "import numpy as np\n",
        "\n",
        "from time import time"
      ],
      "execution_count": 0,
      "outputs": []
    },
    {
      "cell_type": "markdown",
      "metadata": {
        "colab_type": "text",
        "id": "lcwrYoSfFzzh"
      },
      "source": [
        "## import torch_xla to use pytorch on TPU "
      ]
    },
    {
      "cell_type": "code",
      "metadata": {
        "colab_type": "code",
        "id": "OvfO__w_Fzzi",
        "colab": {}
      },
      "source": [
        "# imports the torch_xla package\n",
        "import torch_xla\n",
        "import torch_xla.core.xla_model as xm"
      ],
      "execution_count": 0,
      "outputs": []
    },
    {
      "cell_type": "markdown",
      "metadata": {
        "colab_type": "text",
        "id": "UJ91Kp6vFzzn"
      },
      "source": [
        "## import torch_xla.distributed for multiple TPUs"
      ]
    },
    {
      "cell_type": "code",
      "metadata": {
        "colab_type": "code",
        "id": "zVnr5JAxFzzp",
        "colab": {}
      },
      "source": [
        "import torch_xla.distributed.xla_multiprocessing as xmp\n",
        "import torch_xla.distributed.parallel_loader as pl"
      ],
      "execution_count": 0,
      "outputs": []
    },
    {
      "cell_type": "markdown",
      "metadata": {
        "colab_type": "text",
        "id": "u_0c7Wu-EcDE"
      },
      "source": [
        "# Download MNIST dataset"
      ]
    },
    {
      "cell_type": "code",
      "metadata": {
        "colab_type": "code",
        "id": "9kDopyjfEbiA",
        "colab": {
          "base_uri": "https://localhost:8080/",
          "height": 383,
          "referenced_widgets": [
            "ef17b56490504b39879aac5651b6a35c",
            "2e42c2744fc44fd59b771da3524687bf",
            "7daf7b1a97084799a31c39c5cda2dd16",
            "8c64a44b1c2641818f022b09da179ff4",
            "f1a2955579f04c24a076a9469da06376",
            "127d67a8ba984b15b9f608af792330f4",
            "da5c33e6f5314c948126d71ddd8c5371",
            "cf9a95b647a246ad9e692f6f56f3c98e",
            "3b14ba1c675e49d0be8e906775f9f24c",
            "ccc337cde7c848469834207930fced0f",
            "209e947eafd740318bd3ee2876dc8563",
            "26dfdf86a7c4424b862ac4b5b1cffa9e",
            "571d18156d1742f7afd98955507beb9c",
            "6ff8bd6d77b24b05ac75dbe379c0d446",
            "ea98012ffbf844bbb26850976a9b4037",
            "627f6fe26fcf4a3eb5a19b41bff929f3",
            "354c2739a0464105a063b2b7587b90d9",
            "8e59df3f9e724859af2457e67b24d2f6",
            "aee370ce918640cd94e957cd6873893e",
            "d9759b9909944f848f0c8f774c8a7685",
            "44ef39cb321940288eda47808052d287",
            "ae00c93c9e744022965c91806e48e4cb",
            "819712848959428e8b52c5a7b4d0cf80",
            "f6393a23a4d6435a8555aa80e4a91455",
            "536a3dd77b81496ebee3646fdc6ad417",
            "a83367695125406585ba6dcc21c71efe",
            "d0cbec565e124b5186fbc4972bafc0e9",
            "cffe32e3e3f5469aa434ce98592d6062",
            "8fbb3d10e4e34971b29fc389ed56d169",
            "fdbc3fb2fdd246ecbd94fc781bd2d670",
            "e874a0a7452b4a2d9b7898e193238d07",
            "143e188e12124a8a8dc5d81f39a40fc6"
          ]
        },
        "outputId": "a8a6512c-e214-48a8-bb62-688dcfd3d063"
      },
      "source": [
        "train_dataset =  datasets.MNIST('../data', train=True, download=True)"
      ],
      "execution_count": 5,
      "outputs": [
        {
          "output_type": "stream",
          "text": [
            "Downloading http://yann.lecun.com/exdb/mnist/train-images-idx3-ubyte.gz to ../data/MNIST/raw/train-images-idx3-ubyte.gz\n"
          ],
          "name": "stdout"
        },
        {
          "output_type": "display_data",
          "data": {
            "application/vnd.jupyter.widget-view+json": {
              "model_id": "ef17b56490504b39879aac5651b6a35c",
              "version_minor": 0,
              "version_major": 2
            },
            "text/plain": [
              "HBox(children=(IntProgress(value=1, bar_style='info', max=1), HTML(value='')))"
            ]
          },
          "metadata": {
            "tags": []
          }
        },
        {
          "output_type": "stream",
          "text": [
            "\n",
            "Extracting ../data/MNIST/raw/train-images-idx3-ubyte.gz to ../data/MNIST/raw\n",
            "Downloading http://yann.lecun.com/exdb/mnist/train-labels-idx1-ubyte.gz to ../data/MNIST/raw/train-labels-idx1-ubyte.gz\n"
          ],
          "name": "stdout"
        },
        {
          "output_type": "display_data",
          "data": {
            "application/vnd.jupyter.widget-view+json": {
              "model_id": "3b14ba1c675e49d0be8e906775f9f24c",
              "version_minor": 0,
              "version_major": 2
            },
            "text/plain": [
              "HBox(children=(IntProgress(value=1, bar_style='info', max=1), HTML(value='')))"
            ]
          },
          "metadata": {
            "tags": []
          }
        },
        {
          "output_type": "stream",
          "text": [
            "\n",
            "Extracting ../data/MNIST/raw/train-labels-idx1-ubyte.gz to ../data/MNIST/raw\n",
            "Downloading http://yann.lecun.com/exdb/mnist/t10k-images-idx3-ubyte.gz to ../data/MNIST/raw/t10k-images-idx3-ubyte.gz\n"
          ],
          "name": "stdout"
        },
        {
          "output_type": "display_data",
          "data": {
            "application/vnd.jupyter.widget-view+json": {
              "model_id": "354c2739a0464105a063b2b7587b90d9",
              "version_minor": 0,
              "version_major": 2
            },
            "text/plain": [
              "HBox(children=(IntProgress(value=1, bar_style='info', max=1), HTML(value='')))"
            ]
          },
          "metadata": {
            "tags": []
          }
        },
        {
          "output_type": "stream",
          "text": [
            "\n",
            "Extracting ../data/MNIST/raw/t10k-images-idx3-ubyte.gz to ../data/MNIST/raw\n",
            "Downloading http://yann.lecun.com/exdb/mnist/t10k-labels-idx1-ubyte.gz to ../data/MNIST/raw/t10k-labels-idx1-ubyte.gz\n"
          ],
          "name": "stdout"
        },
        {
          "output_type": "display_data",
          "data": {
            "application/vnd.jupyter.widget-view+json": {
              "model_id": "536a3dd77b81496ebee3646fdc6ad417",
              "version_minor": 0,
              "version_major": 2
            },
            "text/plain": [
              "HBox(children=(IntProgress(value=1, bar_style='info', max=1), HTML(value='')))"
            ]
          },
          "metadata": {
            "tags": []
          }
        },
        {
          "output_type": "stream",
          "text": [
            "\n",
            "Extracting ../data/MNIST/raw/t10k-labels-idx1-ubyte.gz to ../data/MNIST/raw\n",
            "Processing...\n",
            "Done!\n"
          ],
          "name": "stdout"
        }
      ]
    },
    {
      "cell_type": "markdown",
      "metadata": {
        "colab_type": "text",
        "id": "Utc9lyI0Fz0F"
      },
      "source": [
        "# Simple example with MNIST dataset"
      ]
    },
    {
      "cell_type": "markdown",
      "metadata": {
        "colab_type": "text",
        "id": "KBf4Uxg2Fz0I"
      },
      "source": [
        "## Define simple convolution network"
      ]
    },
    {
      "cell_type": "code",
      "metadata": {
        "colab_type": "code",
        "id": "W0Ct4PoMFz0M",
        "colab": {}
      },
      "source": [
        "class Net(nn.Module):\n",
        "    def __init__(self):\n",
        "        super(Net, self).__init__()\n",
        "        self.conv1 = nn.Conv2d(1, 32, 3, 1)\n",
        "        self.conv2 = nn.Conv2d(32, 64, 3, 1)\n",
        "        self.dropout1 = nn.Dropout2d(0.25)\n",
        "        self.dropout2 = nn.Dropout2d(0.5)\n",
        "        self.fc1 = nn.Linear(9216, 128)\n",
        "        self.fc2 = nn.Linear(128, 10)\n",
        "\n",
        "    def forward(self, x):\n",
        "        x = self.conv1(x)\n",
        "        x = F.relu(x)\n",
        "        x = self.conv2(x)\n",
        "        x = F.max_pool2d(x, 2)\n",
        "        x = self.dropout1(x)\n",
        "        x = torch.flatten(x, 1)\n",
        "        x = self.fc1(x)\n",
        "        x = F.relu(x)\n",
        "        x = self.dropout2(x)\n",
        "        x = self.fc2(x)\n",
        "        output = F.log_softmax(x, dim=1)\n",
        "        return output"
      ],
      "execution_count": 0,
      "outputs": []
    },
    {
      "cell_type": "markdown",
      "metadata": {
        "colab_type": "text",
        "id": "AmxuOTHNFz0d"
      },
      "source": [
        "## Define train function as map function"
      ]
    },
    {
      "cell_type": "code",
      "metadata": {
        "colab_type": "code",
        "id": "spz5L_hRFz0j",
        "colab": {}
      },
      "source": [
        "# \"Map function\": acquires a corresponding Cloud TPU core, creates a tensor on it,\n",
        "# and prints its core\n",
        "def map_fn(index):\n",
        "  # Training settings\n",
        "  batch_size=128\n",
        "  epochs=10\n",
        "  lr=1\n",
        "  gamma=0.7\n",
        "  log_interval=10\n",
        "  \n",
        "  device = xm.xla_device()  \n",
        "\n",
        "  train_dataset =  datasets.MNIST('../data', train=True, download=True,\n",
        "                      transform=transforms.Compose([\n",
        "                          transforms.ToTensor(),\n",
        "                          transforms.Normalize((0.1307,), (0.3081,))]))\n",
        "\n",
        "  test_dataset = datasets.MNIST('../data', train=False, transform=transforms.Compose([\n",
        "                          transforms.ToTensor(),\n",
        "                          transforms.Normalize((0.1307,), (0.3081,))]))\n",
        "\n",
        "  train_sampler = torch.utils.data.distributed.DistributedSampler(\n",
        "    train_dataset,\n",
        "    num_replicas=xm.xrt_world_size(),\n",
        "    rank=xm.get_ordinal(),\n",
        "    shuffle=True)\n",
        "  \n",
        "  test_sampler = torch.utils.data.distributed.DistributedSampler(\n",
        "    test_dataset,\n",
        "    num_replicas=xm.xrt_world_size(),\n",
        "    rank=xm.get_ordinal(),\n",
        "    shuffle=False)\n",
        "\n",
        "  train_loader = torch.utils.data.DataLoader(train_dataset, batch_size=batch_size, \n",
        "                                             sampler=train_sampler,\n",
        "                                             num_workers=4)\n",
        "  test_loader = torch.utils.data.DataLoader(test_dataset, batch_size=batch_size, \n",
        "                                            sampler=test_sampler,\n",
        "                                            num_workers=4)\n",
        "\n",
        "  model = Net().to(device)\n",
        "  optimizer = optim.Adadelta(model.parameters(), lr=lr)\n",
        "\n",
        "  scheduler = StepLR(optimizer, step_size=1, gamma=gamma)\n",
        "\n",
        "  print(\"Process\", index ,\"is using\", xm.xla_real_devices([str(device)])[0])\n",
        "  device_times, epoch_times = [], []\n",
        "  for epoch in range(1, epochs + 1):\n",
        "      start_epoch_t = time()\n",
        "      para_train_loader = pl.ParallelLoader(train_loader, [device]).per_device_loader(device)\n",
        "      model.train()\n",
        "      times, losses = [], []\n",
        "      for batch_idx, (data, target) in enumerate(para_train_loader):\n",
        "          start_it_t = time()\n",
        "          data, target = data.to(device), target.to(device)\n",
        "          optimizer.zero_grad()\n",
        "          output = model(data)\n",
        "          loss = F.nll_loss(output, target)\n",
        "          losses.append(loss.cpu().item())\n",
        "          loss.backward()\n",
        "          xm.optimizer_step(optimizer)\n",
        "          times.append(time()-start_it_t)\n",
        "          device_times.append(times[-1])\n",
        "      print(\"[Epoch %d] %s [Train] Avg. loss: %.3f, Total time: %.3f(s/epoch), Avg. time: %.3f(s/iter)\"\\\n",
        "      %(epoch, xm.xla_real_devices([str(device)])[0], np.mean(losses), \n",
        "        time()-start_epoch_t, np.mean(times)))\n",
        "      \n",
        "      para_test_loader = pl.ParallelLoader(test_loader, [device]).per_device_loader(device)\n",
        "      model.eval()\n",
        "      test_loss = 0\n",
        "      correct = 0\n",
        "      with torch.no_grad():\n",
        "          len_data = 0\n",
        "          for data, target in para_test_loader:\n",
        "              len_data += len(data)\n",
        "              data, target = data.to(device), target.to(device)\n",
        "              output = model(data)\n",
        "              test_loss += F.nll_loss(output, target, reduction='sum').item()  # sum up batch loss\n",
        "              pred = output.argmax(dim=1, keepdim=True)  # get the index of the max log-probability\n",
        "              correct += pred.eq(target.view_as(pred)).sum().item()\n",
        "\n",
        "      test_loss /= len_data\n",
        "\n",
        "      print(\"[Epoch %d] %s [Test] Avg. loss: %.4f, Accuracy: %d/%d (%.2f%%)\"\\\n",
        "      %(epoch, xm.xla_real_devices([str(device)])[0], test_loss, correct, len_data, \n",
        "        100. * correct / len_data))\n",
        "      scheduler.step()\n",
        "      epoch_times.append(time()-start_epoch_t)\n",
        "  print(\"%s, Avg. time: %.3f(s/iter), std:%.3f, Avg. time: %.3f(s/epoch), std:%.3f\"\\\n",
        "        %(xm.xla_real_devices([str(device)])[0], np.mean(device_times), np.std(device_times),  np.mean(epoch_times), np.std(epoch_times)))"
      ],
      "execution_count": 0,
      "outputs": []
    },
    {
      "cell_type": "markdown",
      "metadata": {
        "colab_type": "text",
        "id": "aDehNXGmFz0t"
      },
      "source": [
        "## Train the model with multiple TPUs "
      ]
    },
    {
      "cell_type": "code",
      "metadata": {
        "colab_type": "code",
        "id": "qZ3FyWY1Fz00",
        "outputId": "cbc8d12a-075f-4b48-f0ff-117fe98c0737",
        "colab": {
          "base_uri": "https://localhost:8080/",
          "height": 1000
        }
      },
      "source": [
        "# Spawns eight of the map functions, one for each of the eight cores on\n",
        "# the Cloud TPU\n",
        "\n",
        "# Note: Colab only supports start_method='fork'\n",
        "start_trn_time = time()\n",
        "xmp.spawn(map_fn, nprocs=8, start_method='fork')\n",
        "print(\"Train time: %.3fs\"%(time()-start_trn_time))"
      ],
      "execution_count": 8,
      "outputs": [
        {
          "output_type": "stream",
          "text": [
            "Process 0 is using TPU:0\n"
          ],
          "name": "stdout"
        },
        {
          "output_type": "stream",
          "text": [
            "/pytorch/torch/csrc/utils/python_arg_parser.cpp:698: UserWarning: This overload of addcmul_ is deprecated:\n",
            "\taddcmul_(Number value, Tensor tensor1, Tensor tensor2)\n",
            "Consider using one of the following signatures instead:\n",
            "\taddcmul_(Tensor tensor1, Tensor tensor2, Number value)\n"
          ],
          "name": "stderr"
        },
        {
          "output_type": "stream",
          "text": [
            "Process 5 is using TPU:5\n"
          ],
          "name": "stdout"
        },
        {
          "output_type": "stream",
          "text": [
            "/pytorch/torch/csrc/utils/python_arg_parser.cpp:698: UserWarning: This overload of addcmul_ is deprecated:\n",
            "\taddcmul_(Number value, Tensor tensor1, Tensor tensor2)\n",
            "Consider using one of the following signatures instead:\n",
            "\taddcmul_(Tensor tensor1, Tensor tensor2, Number value)\n"
          ],
          "name": "stderr"
        },
        {
          "output_type": "stream",
          "text": [
            "Process 7 is using TPU:7\n",
            "Process 6 is using TPU:6\n"
          ],
          "name": "stdout"
        },
        {
          "output_type": "stream",
          "text": [
            "/pytorch/torch/csrc/utils/python_arg_parser.cpp:698: UserWarning: This overload of addcmul_ is deprecated:\n",
            "\taddcmul_(Number value, Tensor tensor1, Tensor tensor2)\n",
            "Consider using one of the following signatures instead:\n",
            "\taddcmul_(Tensor tensor1, Tensor tensor2, Number value)\n",
            "/pytorch/torch/csrc/utils/python_arg_parser.cpp:698: UserWarning: This overload of addcmul_ is deprecated:\n",
            "\taddcmul_(Number value, Tensor tensor1, Tensor tensor2)\n",
            "Consider using one of the following signatures instead:\n",
            "\taddcmul_(Tensor tensor1, Tensor tensor2, Number value)\n"
          ],
          "name": "stderr"
        },
        {
          "output_type": "stream",
          "text": [
            "Process 4 is using TPU:4\n",
            "Process 1 is using TPU:1\n",
            "Process 2 is using TPU:2\n"
          ],
          "name": "stdout"
        },
        {
          "output_type": "stream",
          "text": [
            "/pytorch/torch/csrc/utils/python_arg_parser.cpp:698: UserWarning: This overload of addcmul_ is deprecated:\n",
            "\taddcmul_(Number value, Tensor tensor1, Tensor tensor2)\n",
            "Consider using one of the following signatures instead:\n",
            "\taddcmul_(Tensor tensor1, Tensor tensor2, Number value)\n"
          ],
          "name": "stderr"
        },
        {
          "output_type": "stream",
          "text": [
            "Process 3 is using TPU:3\n"
          ],
          "name": "stdout"
        },
        {
          "output_type": "stream",
          "text": [
            "/pytorch/torch/csrc/utils/python_arg_parser.cpp:698: UserWarning: This overload of addcmul_ is deprecated:\n",
            "\taddcmul_(Number value, Tensor tensor1, Tensor tensor2)\n",
            "Consider using one of the following signatures instead:\n",
            "\taddcmul_(Tensor tensor1, Tensor tensor2, Number value)\n",
            "/pytorch/torch/csrc/utils/python_arg_parser.cpp:698: UserWarning: This overload of addcmul_ is deprecated:\n",
            "\taddcmul_(Number value, Tensor tensor1, Tensor tensor2)\n",
            "Consider using one of the following signatures instead:\n",
            "\taddcmul_(Tensor tensor1, Tensor tensor2, Number value)\n",
            "/pytorch/torch/csrc/utils/python_arg_parser.cpp:698: UserWarning: This overload of addcmul_ is deprecated:\n",
            "\taddcmul_(Number value, Tensor tensor1, Tensor tensor2)\n",
            "Consider using one of the following signatures instead:\n",
            "\taddcmul_(Tensor tensor1, Tensor tensor2, Number value)\n"
          ],
          "name": "stderr"
        },
        {
          "output_type": "stream",
          "text": [
            "[Epoch 1] TPU:7 [Train] Avg. loss: 0.612, Total time: 12.713(s/epoch), Avg. time: 0.176(s/iter)\n",
            "[Epoch 1] TPU:2 [Train] Avg. loss: 0.613, Total time: 10.733(s/epoch), Avg. time: 0.139(s/iter)\n",
            "[Epoch 1] TPU:5 [Train] Avg. loss: 0.608, Total time: 13.629(s/epoch), Avg. time: 0.198(s/iter)\n",
            "[Epoch 1] TPU:1 [Train] Avg. loss: 0.625, Total time: 10.870(s/epoch), Avg. time: 0.134(s/iter)\n",
            "[Epoch 1] TPU:6 [Train] Avg. loss: 0.600, Total time: 12.708(s/epoch), Avg. time: 0.179(s/iter)\n",
            "[Epoch 1] TPU:4 [Train] Avg. loss: 0.604, Total time: 11.212(s/epoch), Avg. time: 0.151(s/iter)\n",
            "[Epoch 1] TPU:3 [Train] Avg. loss: 0.583, Total time: 10.387(s/epoch), Avg. time: 0.109(s/iter)\n",
            "[Epoch 1] TPU:0 [Train] Avg. loss: 0.605, Total time: 15.750(s/epoch), Avg. time: 0.225(s/iter)\n",
            "[Epoch 1] TPU:4 [Test] Avg. loss: 0.1195, Accuracy: 1209/1250 (96.72%)\n",
            "[Epoch 1] TPU:2 [Test] Avg. loss: 0.1395, Accuracy: 1193/1250 (95.44%)\n",
            "[Epoch 1] TPU:5 [Test] Avg. loss: 0.1482, Accuracy: 1190/1250 (95.20%)\n",
            "[Epoch 1] TPU:7 [Test] Avg. loss: 0.1519, Accuracy: 1187/1250 (94.96%)\n",
            "[Epoch 1] TPU:0 [Test] Avg. loss: 0.1449, Accuracy: 1197/1250 (95.76%)\n",
            "[Epoch 1] TPU:3 [Test] Avg. loss: 0.1361, Accuracy: 1198/1250 (95.84%)\n",
            "[Epoch 1] TPU:6 [Test] Avg. loss: 0.1479, Accuracy: 1195/1250 (95.60%)\n",
            "[Epoch 1] TPU:1 [Test] Avg. loss: 0.1595, Accuracy: 1193/1250 (95.44%)\n",
            "[Epoch 2] TPU:0 [Train] Avg. loss: 0.139, Total time: 12.787(s/epoch), Avg. time: 0.081(s/iter)\n",
            "[Epoch 2] TPU:1 [Train] Avg. loss: 0.159, Total time: 12.780(s/epoch), Avg. time: 0.090(s/iter)\n",
            "[Epoch 2] TPU:7 [Train] Avg. loss: 0.141, Total time: 12.783(s/epoch), Avg. time: 0.150(s/iter)\n",
            "[Epoch 2] TPU:2 [Train] Avg. loss: 0.140, Total time: 12.779(s/epoch), Avg. time: 0.132(s/iter)\n",
            "[Epoch 2] TPU:5 [Train] Avg. loss: 0.144, Total time: 12.798(s/epoch), Avg. time: 0.126(s/iter)\n",
            "[Epoch 2] TPU:6 [Train] Avg. loss: 0.145, Total time: 12.777(s/epoch), Avg. time: 0.128(s/iter)\n",
            "[Epoch 2] TPU:3 [Train] Avg. loss: 0.128, Total time: 12.784(s/epoch), Avg. time: 0.079(s/iter)\n",
            "[Epoch 2] TPU:4 [Train] Avg. loss: 0.150, Total time: 12.805(s/epoch), Avg. time: 0.071(s/iter)\n",
            "[Epoch 2] TPU:3 [Test] Avg. loss: 0.0772, Accuracy: 1216/1250 (97.28%)\n",
            "[Epoch 2] TPU:6 [Test] Avg. loss: 0.0865, Accuracy: 1218/1250 (97.44%)\n",
            "[Epoch 2] TPU:0 [Test] Avg. loss: 0.0880, Accuracy: 1217/1250 (97.36%)\n",
            "[Epoch 2] TPU:2 [Test] Avg. loss: 0.0746, Accuracy: 1222/1250 (97.76%)\n",
            "[Epoch 2] TPU:4 [Test] Avg. loss: 0.0622, Accuracy: 1225/1250 (98.00%)\n",
            "[Epoch 2] TPU:1 [Test] Avg. loss: 0.0981, Accuracy: 1210/1250 (96.80%)\n",
            "[Epoch 2] TPU:7 [Test] Avg. loss: 0.0904, Accuracy: 1215/1250 (97.20%)\n",
            "[Epoch 2] TPU:5 [Test] Avg. loss: 0.0822, Accuracy: 1216/1250 (97.28%)\n",
            "[Epoch 3] TPU:6 [Train] Avg. loss: 0.078, Total time: 12.482(s/epoch), Avg. time: 0.182(s/iter)\n",
            "[Epoch 3] TPU:3 [Train] Avg. loss: 0.067, Total time: 12.609(s/epoch), Avg. time: 0.183(s/iter)\n",
            "[Epoch 3] TPU:4 [Train] Avg. loss: 0.083, Total time: 12.311(s/epoch), Avg. time: 0.128(s/iter)\n",
            "[Epoch 3] TPU:2 [Train] Avg. loss: 0.075, Total time: 12.344(s/epoch), Avg. time: 0.140(s/iter)\n",
            "[Epoch 3] TPU:7 [Train] Avg. loss: 0.078, Total time: 12.294(s/epoch), Avg. time: 0.107(s/iter)\n",
            "[Epoch 3] TPU:0 [Train] Avg. loss: 0.076, Total time: 12.421(s/epoch), Avg. time: 0.180(s/iter)\n",
            "[Epoch 3] TPU:1 [Train] Avg. loss: 0.085, Total time: 12.321(s/epoch), Avg. time: 0.105(s/iter)\n",
            "[Epoch 3] TPU:5 [Train] Avg. loss: 0.080, Total time: 12.252(s/epoch), Avg. time: 0.077(s/iter)\n",
            "[Epoch 3] TPU:0 [Test] Avg. loss: 0.0799, Accuracy: 1220/1250 (97.60%)\n",
            "[Epoch 3] TPU:5 [Test] Avg. loss: 0.0675, Accuracy: 1222/1250 (97.76%)\n",
            "[Epoch 3] TPU:3 [Test] Avg. loss: 0.0655, Accuracy: 1225/1250 (98.00%)\n",
            "[Epoch 3] TPU:7 [Test] Avg. loss: 0.0707, Accuracy: 1222/1250 (97.76%)\n",
            "[Epoch 3] TPU:4 [Test] Avg. loss: 0.0463, Accuracy: 1230/1250 (98.40%)\n",
            "[Epoch 3] TPU:6 [Test] Avg. loss: 0.0761, Accuracy: 1219/1250 (97.52%)\n",
            "[Epoch 3] TPU:2 [Test] Avg. loss: 0.0603, Accuracy: 1226/1250 (98.08%)\n",
            "[Epoch 3] TPU:1 [Test] Avg. loss: 0.0761, Accuracy: 1215/1250 (97.20%)\n",
            "[Epoch 4] TPU:5 [Train] Avg. loss: 0.049, Total time: 12.195(s/epoch), Avg. time: 0.177(s/iter)\n",
            "[Epoch 4] TPU:4 [Train] Avg. loss: 0.051, Total time: 12.050(s/epoch), Avg. time: 0.104(s/iter)\n",
            "[Epoch 4] TPU:3 [Train] Avg. loss: 0.040, Total time: 12.096(s/epoch), Avg. time: 0.148(s/iter)\n",
            "[Epoch 4] TPU:6 [Train] Avg. loss: 0.048, Total time: 12.025(s/epoch), Avg. time: 0.076(s/iter)\n",
            "[Epoch 4] TPU:2 [Train] Avg. loss: 0.047, Total time: 12.012(s/epoch), Avg. time: 0.093(s/iter)\n",
            "[Epoch 4] TPU:0 [Train] Avg. loss: 0.047, Total time: 12.380(s/epoch), Avg. time: 0.182(s/iter)\n",
            "[Epoch 4] TPU:7 [Train] Avg. loss: 0.049, Total time: 12.054(s/epoch), Avg. time: 0.141(s/iter)\n",
            "[Epoch 4] TPU:1 [Train] Avg. loss: 0.052, Total time: 12.002(s/epoch), Avg. time: 0.067(s/iter)\n",
            "[Epoch 4] TPU:3 [Test] Avg. loss: 0.0651, Accuracy: 1227/1250 (98.16%)\n",
            "[Epoch 4] TPU:4 [Test] Avg. loss: 0.0430, Accuracy: 1228/1250 (98.24%)\n",
            "[Epoch 4] TPU:5 [Test] Avg. loss: 0.0666, Accuracy: 1224/1250 (97.92%)\n",
            "[Epoch 4] TPU:2 [Test] Avg. loss: 0.0529, Accuracy: 1226/1250 (98.08%)\n",
            "[Epoch 4] TPU:6 [Test] Avg. loss: 0.0770, Accuracy: 1220/1250 (97.60%)\n",
            "[Epoch 4] TPU:0 [Test] Avg. loss: 0.0770, Accuracy: 1226/1250 (98.08%)\n",
            "[Epoch 4] TPU:7 [Test] Avg. loss: 0.0660, Accuracy: 1223/1250 (97.84%)\n",
            "[Epoch 4] TPU:1 [Test] Avg. loss: 0.0748, Accuracy: 1220/1250 (97.60%)\n",
            "[Epoch 5] TPU:3 [Train] Avg. loss: 0.027, Total time: 12.302(s/epoch), Avg. time: 0.180(s/iter)\n",
            "[Epoch 5] TPU:7 [Train] Avg. loss: 0.033, Total time: 12.059(s/epoch), Avg. time: 0.145(s/iter)\n",
            "[Epoch 5] TPU:4 [Train] Avg. loss: 0.034, Total time: 12.252(s/epoch), Avg. time: 0.179(s/iter)\n",
            "[Epoch 5] TPU:0 [Train] Avg. loss: 0.031, Total time: 12.074(s/epoch), Avg. time: 0.157(s/iter)\n",
            "[Epoch 5] TPU:2 [Train] Avg. loss: 0.031, Total time: 12.102(s/epoch), Avg. time: 0.148(s/iter)\n",
            "[Epoch 5] TPU:6 [Train] Avg. loss: 0.032, Total time: 12.101(s/epoch), Avg. time: 0.167(s/iter)\n",
            "[Epoch 5] TPU:1 [Train] Avg. loss: 0.036, Total time: 11.926(s/epoch), Avg. time: 0.073(s/iter)\n",
            "[Epoch 5] TPU:5 [Train] Avg. loss: 0.034, Total time: 12.161(s/epoch), Avg. time: 0.174(s/iter)\n",
            "[Epoch 5] TPU:2 [Test] Avg. loss: 0.0504, Accuracy: 1229/1250 (98.32%)\n",
            "[Epoch 5] TPU:3 [Test] Avg. loss: 0.0608, Accuracy: 1228/1250 (98.24%)\n",
            "[Epoch 5] TPU:7 [Test] Avg. loss: 0.0622, Accuracy: 1224/1250 (97.92%)\n",
            "[Epoch 5] TPU:4 [Test] Avg. loss: 0.0388, Accuracy: 1234/1250 (98.72%)\n",
            "[Epoch 5] TPU:6 [Test] Avg. loss: 0.0739, Accuracy: 1221/1250 (97.68%)\n",
            "[Epoch 5] TPU:5 [Test] Avg. loss: 0.0611, Accuracy: 1227/1250 (98.16%)\n",
            "[Epoch 5] TPU:1 [Test] Avg. loss: 0.0676, Accuracy: 1222/1250 (97.76%)\n",
            "[Epoch 5] TPU:0 [Test] Avg. loss: 0.0725, Accuracy: 1228/1250 (98.24%)\n",
            "[Epoch 6] TPU:4 [Train] Avg. loss: 0.024, Total time: 12.278(s/epoch), Avg. time: 0.143(s/iter)\n",
            "[Epoch 6] TPU:5 [Train] Avg. loss: 0.025, Total time: 12.225(s/epoch), Avg. time: 0.075(s/iter)\n",
            "[Epoch 6] TPU:7 [Train] Avg. loss: 0.025, Total time: 12.283(s/epoch), Avg. time: 0.141(s/iter)\n",
            "[Epoch 6] TPU:3 [Train] Avg. loss: 0.019, Total time: 12.432(s/epoch), Avg. time: 0.129(s/iter)\n",
            "[Epoch 6] TPU:1 [Train] Avg. loss: 0.027, Total time: 12.189(s/epoch), Avg. time: 0.076(s/iter)\n",
            "[Epoch 6] TPU:2 [Train] Avg. loss: 0.022, Total time: 12.516(s/epoch), Avg. time: 0.188(s/iter)\n",
            "[Epoch 6] TPU:6 [Train] Avg. loss: 0.023, Total time: 12.263(s/epoch), Avg. time: 0.121(s/iter)\n",
            "[Epoch 6] TPU:0 [Train] Avg. loss: 0.023, Total time: 12.224(s/epoch), Avg. time: 0.082(s/iter)\n",
            "[Epoch 6] TPU:6 [Test] Avg. loss: 0.0729, Accuracy: 1221/1250 (97.68%)\n",
            "[Epoch 6] TPU:4 [Test] Avg. loss: 0.0371, Accuracy: 1236/1250 (98.88%)\n",
            "[Epoch 6] TPU:5 [Test] Avg. loss: 0.0595, Accuracy: 1227/1250 (98.16%)\n",
            "[Epoch 6] TPU:7 [Test] Avg. loss: 0.0619, Accuracy: 1226/1250 (98.08%)\n",
            "[Epoch 6] TPU:3 [Test] Avg. loss: 0.0594, Accuracy: 1229/1250 (98.32%)\n",
            "[Epoch 6] TPU:0 [Test] Avg. loss: 0.0715, Accuracy: 1230/1250 (98.40%)\n",
            "[Epoch 6] TPU:2 [Test] Avg. loss: 0.0508, Accuracy: 1229/1250 (98.32%)\n",
            "[Epoch 6] TPU:1 [Test] Avg. loss: 0.0654, Accuracy: 1224/1250 (97.92%)\n",
            "[Epoch 7] TPU:6 [Train] Avg. loss: 0.018, Total time: 12.399(s/epoch), Avg. time: 0.184(s/iter)\n",
            "[Epoch 7] TPU:2 [Train] Avg. loss: 0.017, Total time: 12.324(s/epoch), Avg. time: 0.140(s/iter)\n",
            "[Epoch 7] TPU:4 [Train] Avg. loss: 0.019, Total time: 12.388(s/epoch), Avg. time: 0.160(s/iter)\n",
            "[Epoch 7] TPU:5 [Train] Avg. loss: 0.019, Total time: 12.362(s/epoch), Avg. time: 0.156(s/iter)\n",
            "[Epoch 7] TPU:1 [Train] Avg. loss: 0.022, Total time: 12.324(s/epoch), Avg. time: 0.109(s/iter)\n",
            "[Epoch 7] TPU:7 [Train] Avg. loss: 0.020, Total time: 12.357(s/epoch), Avg. time: 0.086(s/iter)\n",
            "[Epoch 7] TPU:3 [Train] Avg. loss: 0.015, Total time: 12.352(s/epoch), Avg. time: 0.123(s/iter)\n",
            "[Epoch 7] TPU:0 [Train] Avg. loss: 0.018, Total time: 12.336(s/epoch), Avg. time: 0.079(s/iter)\n",
            "[Epoch 7] TPU:5 [Test] Avg. loss: 0.0594, Accuracy: 1229/1250 (98.32%)\n",
            "[Epoch 7] TPU:0 [Test] Avg. loss: 0.0719, Accuracy: 1231/1250 (98.48%)\n",
            "[Epoch 7] TPU:6 [Test] Avg. loss: 0.0733, Accuracy: 1222/1250 (97.76%)\n",
            "[Epoch 7] TPU:1 [Test] Avg. loss: 0.0656, Accuracy: 1224/1250 (97.92%)\n",
            "[Epoch 7] TPU:3 [Test] Avg. loss: 0.0592, Accuracy: 1230/1250 (98.40%)\n",
            "[Epoch 7] TPU:2 [Test] Avg. loss: 0.0508, Accuracy: 1230/1250 (98.40%)\n",
            "[Epoch 7] TPU:7 [Test] Avg. loss: 0.0626, Accuracy: 1225/1250 (98.00%)\n",
            "[Epoch 7] TPU:4 [Test] Avg. loss: 0.0364, Accuracy: 1236/1250 (98.88%)\n",
            "[Epoch 8] TPU:3 [Train] Avg. loss: 0.013, Total time: 12.069(s/epoch), Avg. time: 0.158(s/iter)\n",
            "[Epoch 8] TPU:5 [Train] Avg. loss: 0.016, Total time: 12.194(s/epoch), Avg. time: 0.180(s/iter)\n",
            "[Epoch 8] TPU:6 [Train] Avg. loss: 0.015, Total time: 12.078(s/epoch), Avg. time: 0.147(s/iter)\n",
            "[Epoch 8] TPU:4 [Train] Avg. loss: 0.016, Total time: 12.012(s/epoch), Avg. time: 0.067(s/iter)\n",
            "[Epoch 8] TPU:2 [Train] Avg. loss: 0.014, Total time: 12.058(s/epoch), Avg. time: 0.135(s/iter)\n",
            "[Epoch 8] TPU:1 [Train] Avg. loss: 0.019, Total time: 12.089(s/epoch), Avg. time: 0.147(s/iter)\n",
            "[Epoch 8] TPU:0 [Train] Avg. loss: 0.015, Total time: 12.098(s/epoch), Avg. time: 0.145(s/iter)\n",
            "[Epoch 8] TPU:7 [Train] Avg. loss: 0.016, Total time: 12.078(s/epoch), Avg. time: 0.133(s/iter)\n",
            "[Epoch 8] TPU:3 [Test] Avg. loss: 0.0590, Accuracy: 1231/1250 (98.48%)\n",
            "[Epoch 8] TPU:4 [Test] Avg. loss: 0.0362, Accuracy: 1236/1250 (98.88%)\n",
            "[Epoch 8] TPU:1 [Test] Avg. loss: 0.0660, Accuracy: 1224/1250 (97.92%)\n",
            "[Epoch 8] TPU:5 [Test] Avg. loss: 0.0594, Accuracy: 1227/1250 (98.16%)\n",
            "[Epoch 8] TPU:7 [Test] Avg. loss: 0.0634, Accuracy: 1225/1250 (98.00%)\n",
            "[Epoch 8] TPU:6 [Test] Avg. loss: 0.0736, Accuracy: 1223/1250 (97.84%)\n",
            "[Epoch 8] TPU:2 [Test] Avg. loss: 0.0510, Accuracy: 1230/1250 (98.40%)\n",
            "[Epoch 8] TPU:0 [Test] Avg. loss: 0.0724, Accuracy: 1230/1250 (98.40%)\n",
            "[Epoch 9] TPU:3 [Train] Avg. loss: 0.011, Total time: 12.336(s/epoch), Avg. time: 0.185(s/iter)\n",
            "[Epoch 9] TPU:7 [Train] Avg. loss: 0.014, Total time: 12.060(s/epoch), Avg. time: 0.116(s/iter)\n",
            "[Epoch 9] TPU:6 [Train] Avg. loss: 0.013, Total time: 12.042(s/epoch), Avg. time: 0.113(s/iter)\n",
            "[Epoch 9] TPU:1 [Train] Avg. loss: 0.016, Total time: 12.144(s/epoch), Avg. time: 0.178(s/iter)\n",
            "[Epoch 9] TPU:0 [Train] Avg. loss: 0.014, Total time: 11.935(s/epoch), Avg. time: 0.078(s/iter)\n",
            "[Epoch 9] TPU:5 [Train] Avg. loss: 0.014, Total time: 12.133(s/epoch), Avg. time: 0.102(s/iter)\n",
            "[Epoch 9] TPU:2 [Train] Avg. loss: 0.012, Total time: 12.013(s/epoch), Avg. time: 0.083(s/iter)\n",
            "[Epoch 9] TPU:4 [Train] Avg. loss: 0.014, Total time: 12.262(s/epoch), Avg. time: 0.172(s/iter)\n",
            "[Epoch 9] TPU:0 [Test] Avg. loss: 0.0731, Accuracy: 1230/1250 (98.40%)\n",
            "[Epoch 9] TPU:6 [Test] Avg. loss: 0.0741, Accuracy: 1223/1250 (97.84%)\n",
            "[Epoch 9] TPU:5 [Test] Avg. loss: 0.0597, Accuracy: 1227/1250 (98.16%)\n",
            "[Epoch 9] TPU:1 [Test] Avg. loss: 0.0665, Accuracy: 1224/1250 (97.92%)\n",
            "[Epoch 9] TPU:7 [Test] Avg. loss: 0.0639, Accuracy: 1226/1250 (98.08%)\n",
            "[Epoch 9] TPU:4 [Test] Avg. loss: 0.0361, Accuracy: 1238/1250 (99.04%)\n",
            "[Epoch 9] TPU:2 [Test] Avg. loss: 0.0510, Accuracy: 1230/1250 (98.40%)\n",
            "[Epoch 9] TPU:3 [Test] Avg. loss: 0.0592, Accuracy: 1231/1250 (98.48%)\n",
            "[Epoch 10] TPU:0 [Train] Avg. loss: 0.013, Total time: 12.179(s/epoch), Avg. time: 0.174(s/iter)\n",
            "[Epoch 10] TPU:7 [Train] Avg. loss: 0.013, Total time: 12.021(s/epoch), Avg. time: 0.104(s/iter)\n",
            "[Epoch 10] TPU:1 [Train] Avg. loss: 0.015, Total time: 12.040(s/epoch), Avg. time: 0.117(s/iter)\n",
            "[Epoch 10] TPU:4 [Train] Avg. loss: 0.013, Total time: 12.024(s/epoch), Avg. time: 0.136(s/iter)\n",
            "[Epoch 10] TPU:6 [Train] Avg. loss: 0.012, Total time: 12.143(s/epoch), Avg. time: 0.182(s/iter)\n",
            "[Epoch 10] TPU:3 [Train] Avg. loss: 0.010, Total time: 11.969(s/epoch), Avg. time: 0.063(s/iter)\n",
            "[Epoch 10] TPU:5 [Train] Avg. loss: 0.013, Total time: 12.118(s/epoch), Avg. time: 0.117(s/iter)\n",
            "[Epoch 10] TPU:2 [Train] Avg. loss: 0.011, Total time: 12.004(s/epoch), Avg. time: 0.076(s/iter)\n",
            "[Epoch 10] TPU:4 [Test] Avg. loss: 0.0360, Accuracy: 1238/1250 (99.04%)\n",
            "TPU:4, Avg. time: 0.131(s/iter), std:0.123, Avg. time: 14.787(s/epoch), std:0.284\n",
            "[Epoch 10] TPU:7 [Test] Avg. loss: 0.0643, Accuracy: 1225/1250 (98.00%)\n",
            "TPU:7, Avg. time: 0.130(s/iter), std:0.148, Avg. time: 14.941(s/epoch), std:0.436\n",
            "[Epoch 10] TPU:6 [Test] Avg. loss: 0.0747, Accuracy: 1223/1250 (97.84%)\n",
            "[Epoch 10] TPU:0 [Test] Avg. loss: 0.0736, Accuracy: 1230/1250 (98.40%)\n",
            "[Epoch 10] TPU:5 [Test] Avg. loss: 0.0599, Accuracy: 1227/1250 (98.16%)\n",
            "TPU:6, Avg. time: 0.148(s/iter), std:0.166, Avg. time: 14.943(s/epoch), std:0.421\n",
            "TPU:5, Avg. time: 0.138(s/iter), std:0.195, Avg. time: 15.036(s/epoch), std:0.681\n",
            "TPU:0, Avg. time: 0.138(s/iter), std:0.246, Avg. time: 15.248(s/epoch), std:1.303\n",
            "[Epoch 10] TPU:3 [Test] Avg. loss: 0.0593, Accuracy: 1231/1250 (98.48%)\n",
            "[Epoch 10] TPU:1 [Test] Avg. loss: 0.0668, Accuracy: 1224/1250 (97.92%)\n",
            "TPU:3, Avg. time: 0.136(s/iter), std:0.124, Avg. time: 14.719(s/epoch), std:0.403\n",
            "TPU:1, Avg. time: 0.110(s/iter), std:0.091, Avg. time: 14.768(s/epoch), std:0.273\n",
            "[Epoch 10] TPU:2 [Test] Avg. loss: 0.0511, Accuracy: 1230/1250 (98.40%)\n",
            "TPU:2, Avg. time: 0.127(s/iter), std:0.112, Avg. time: 14.759(s/epoch), std:0.328\n",
            "Train time: 158.917s\n"
          ],
          "name": "stdout"
        }
      ]
    }
  ]
}