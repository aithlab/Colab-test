{
  "nbformat": 4,
  "nbformat_minor": 0,
  "metadata": {
    "accelerator": "TPU",
    "colab": {
      "name": "Multi_core_TPUs_make_from_example.ipynb",
      "provenance": [],
      "collapsed_sections": [],
      "machine_shape": "hm"
    },
    "kernelspec": {
      "display_name": "Python 3",
      "language": "python",
      "name": "python3"
    },
    "language_info": {
      "codemirror_mode": {
        "name": "ipython",
        "version": 3
      },
      "file_extension": ".py",
      "mimetype": "text/x-python",
      "name": "python",
      "nbconvert_exporter": "python",
      "pygments_lexer": "ipython3",
      "version": "3.7.6"
    },
    "toc": {
      "base_numbering": 1,
      "nav_menu": {},
      "number_sections": true,
      "sideBar": true,
      "skip_h1_title": false,
      "title_cell": "Table of Contents",
      "title_sidebar": "Contents",
      "toc_cell": false,
      "toc_position": {},
      "toc_section_display": true,
      "toc_window_display": true
    },
    "widgets": {
      "application/vnd.jupyter.widget-state+json": {
        "2d5022059b3f4671b4dd44b88f73c124": {
          "model_module": "@jupyter-widgets/controls",
          "model_name": "HBoxModel",
          "state": {
            "_view_name": "HBoxView",
            "_dom_classes": [],
            "_model_name": "HBoxModel",
            "_view_module": "@jupyter-widgets/controls",
            "_model_module_version": "1.5.0",
            "_view_count": null,
            "_view_module_version": "1.5.0",
            "box_style": "",
            "layout": "IPY_MODEL_f55e301752094a28a2d418132df0cb94",
            "_model_module": "@jupyter-widgets/controls",
            "children": [
              "IPY_MODEL_bc08687b186247e6b41a824f82c8e6d8",
              "IPY_MODEL_d8713128b5214f19993a6893d8401d2c"
            ]
          }
        },
        "f55e301752094a28a2d418132df0cb94": {
          "model_module": "@jupyter-widgets/base",
          "model_name": "LayoutModel",
          "state": {
            "_view_name": "LayoutView",
            "grid_template_rows": null,
            "right": null,
            "justify_content": null,
            "_view_module": "@jupyter-widgets/base",
            "overflow": null,
            "_model_module_version": "1.2.0",
            "_view_count": null,
            "flex_flow": null,
            "width": null,
            "min_width": null,
            "border": null,
            "align_items": null,
            "bottom": null,
            "_model_module": "@jupyter-widgets/base",
            "top": null,
            "grid_column": null,
            "overflow_y": null,
            "overflow_x": null,
            "grid_auto_flow": null,
            "grid_area": null,
            "grid_template_columns": null,
            "flex": null,
            "_model_name": "LayoutModel",
            "justify_items": null,
            "grid_row": null,
            "max_height": null,
            "align_content": null,
            "visibility": null,
            "align_self": null,
            "height": null,
            "min_height": null,
            "padding": null,
            "grid_auto_rows": null,
            "grid_gap": null,
            "max_width": null,
            "order": null,
            "_view_module_version": "1.2.0",
            "grid_template_areas": null,
            "object_position": null,
            "object_fit": null,
            "grid_auto_columns": null,
            "margin": null,
            "display": null,
            "left": null
          }
        },
        "bc08687b186247e6b41a824f82c8e6d8": {
          "model_module": "@jupyter-widgets/controls",
          "model_name": "IntProgressModel",
          "state": {
            "_view_name": "ProgressView",
            "style": "IPY_MODEL_d1d2a0826e374d55a8495d195a413205",
            "_dom_classes": [],
            "description": "",
            "_model_name": "IntProgressModel",
            "bar_style": "success",
            "max": 1,
            "_view_module": "@jupyter-widgets/controls",
            "_model_module_version": "1.5.0",
            "value": 1,
            "_view_count": null,
            "_view_module_version": "1.5.0",
            "orientation": "horizontal",
            "min": 0,
            "description_tooltip": null,
            "_model_module": "@jupyter-widgets/controls",
            "layout": "IPY_MODEL_6136435110f5456da41cf14d4e029d4f"
          }
        },
        "d8713128b5214f19993a6893d8401d2c": {
          "model_module": "@jupyter-widgets/controls",
          "model_name": "HTMLModel",
          "state": {
            "_view_name": "HTMLView",
            "style": "IPY_MODEL_d6cc3449e50a499d9838e19f0edec161",
            "_dom_classes": [],
            "description": "",
            "_model_name": "HTMLModel",
            "placeholder": "​",
            "_view_module": "@jupyter-widgets/controls",
            "_model_module_version": "1.5.0",
            "value": "9920512it [00:00, 20366822.87it/s]",
            "_view_count": null,
            "_view_module_version": "1.5.0",
            "description_tooltip": null,
            "_model_module": "@jupyter-widgets/controls",
            "layout": "IPY_MODEL_05286b3818f546fe8c7dddf68eac8791"
          }
        },
        "d1d2a0826e374d55a8495d195a413205": {
          "model_module": "@jupyter-widgets/controls",
          "model_name": "ProgressStyleModel",
          "state": {
            "_view_name": "StyleView",
            "_model_name": "ProgressStyleModel",
            "description_width": "",
            "_view_module": "@jupyter-widgets/base",
            "_model_module_version": "1.5.0",
            "_view_count": null,
            "_view_module_version": "1.2.0",
            "bar_color": null,
            "_model_module": "@jupyter-widgets/controls"
          }
        },
        "6136435110f5456da41cf14d4e029d4f": {
          "model_module": "@jupyter-widgets/base",
          "model_name": "LayoutModel",
          "state": {
            "_view_name": "LayoutView",
            "grid_template_rows": null,
            "right": null,
            "justify_content": null,
            "_view_module": "@jupyter-widgets/base",
            "overflow": null,
            "_model_module_version": "1.2.0",
            "_view_count": null,
            "flex_flow": null,
            "width": null,
            "min_width": null,
            "border": null,
            "align_items": null,
            "bottom": null,
            "_model_module": "@jupyter-widgets/base",
            "top": null,
            "grid_column": null,
            "overflow_y": null,
            "overflow_x": null,
            "grid_auto_flow": null,
            "grid_area": null,
            "grid_template_columns": null,
            "flex": null,
            "_model_name": "LayoutModel",
            "justify_items": null,
            "grid_row": null,
            "max_height": null,
            "align_content": null,
            "visibility": null,
            "align_self": null,
            "height": null,
            "min_height": null,
            "padding": null,
            "grid_auto_rows": null,
            "grid_gap": null,
            "max_width": null,
            "order": null,
            "_view_module_version": "1.2.0",
            "grid_template_areas": null,
            "object_position": null,
            "object_fit": null,
            "grid_auto_columns": null,
            "margin": null,
            "display": null,
            "left": null
          }
        },
        "d6cc3449e50a499d9838e19f0edec161": {
          "model_module": "@jupyter-widgets/controls",
          "model_name": "DescriptionStyleModel",
          "state": {
            "_view_name": "StyleView",
            "_model_name": "DescriptionStyleModel",
            "description_width": "",
            "_view_module": "@jupyter-widgets/base",
            "_model_module_version": "1.5.0",
            "_view_count": null,
            "_view_module_version": "1.2.0",
            "_model_module": "@jupyter-widgets/controls"
          }
        },
        "05286b3818f546fe8c7dddf68eac8791": {
          "model_module": "@jupyter-widgets/base",
          "model_name": "LayoutModel",
          "state": {
            "_view_name": "LayoutView",
            "grid_template_rows": null,
            "right": null,
            "justify_content": null,
            "_view_module": "@jupyter-widgets/base",
            "overflow": null,
            "_model_module_version": "1.2.0",
            "_view_count": null,
            "flex_flow": null,
            "width": null,
            "min_width": null,
            "border": null,
            "align_items": null,
            "bottom": null,
            "_model_module": "@jupyter-widgets/base",
            "top": null,
            "grid_column": null,
            "overflow_y": null,
            "overflow_x": null,
            "grid_auto_flow": null,
            "grid_area": null,
            "grid_template_columns": null,
            "flex": null,
            "_model_name": "LayoutModel",
            "justify_items": null,
            "grid_row": null,
            "max_height": null,
            "align_content": null,
            "visibility": null,
            "align_self": null,
            "height": null,
            "min_height": null,
            "padding": null,
            "grid_auto_rows": null,
            "grid_gap": null,
            "max_width": null,
            "order": null,
            "_view_module_version": "1.2.0",
            "grid_template_areas": null,
            "object_position": null,
            "object_fit": null,
            "grid_auto_columns": null,
            "margin": null,
            "display": null,
            "left": null
          }
        },
        "f72c63ab9bb54f40a86383e271d2c157": {
          "model_module": "@jupyter-widgets/controls",
          "model_name": "HBoxModel",
          "state": {
            "_view_name": "HBoxView",
            "_dom_classes": [],
            "_model_name": "HBoxModel",
            "_view_module": "@jupyter-widgets/controls",
            "_model_module_version": "1.5.0",
            "_view_count": null,
            "_view_module_version": "1.5.0",
            "box_style": "",
            "layout": "IPY_MODEL_e7b7656ac68c45bab0c130440e8f7ca1",
            "_model_module": "@jupyter-widgets/controls",
            "children": [
              "IPY_MODEL_1dc6d6cbe4a34582a5f232acb12ebaf6",
              "IPY_MODEL_841f5183bc5945a2a3bec22f97baa9a2"
            ]
          }
        },
        "e7b7656ac68c45bab0c130440e8f7ca1": {
          "model_module": "@jupyter-widgets/base",
          "model_name": "LayoutModel",
          "state": {
            "_view_name": "LayoutView",
            "grid_template_rows": null,
            "right": null,
            "justify_content": null,
            "_view_module": "@jupyter-widgets/base",
            "overflow": null,
            "_model_module_version": "1.2.0",
            "_view_count": null,
            "flex_flow": null,
            "width": null,
            "min_width": null,
            "border": null,
            "align_items": null,
            "bottom": null,
            "_model_module": "@jupyter-widgets/base",
            "top": null,
            "grid_column": null,
            "overflow_y": null,
            "overflow_x": null,
            "grid_auto_flow": null,
            "grid_area": null,
            "grid_template_columns": null,
            "flex": null,
            "_model_name": "LayoutModel",
            "justify_items": null,
            "grid_row": null,
            "max_height": null,
            "align_content": null,
            "visibility": null,
            "align_self": null,
            "height": null,
            "min_height": null,
            "padding": null,
            "grid_auto_rows": null,
            "grid_gap": null,
            "max_width": null,
            "order": null,
            "_view_module_version": "1.2.0",
            "grid_template_areas": null,
            "object_position": null,
            "object_fit": null,
            "grid_auto_columns": null,
            "margin": null,
            "display": null,
            "left": null
          }
        },
        "1dc6d6cbe4a34582a5f232acb12ebaf6": {
          "model_module": "@jupyter-widgets/controls",
          "model_name": "IntProgressModel",
          "state": {
            "_view_name": "ProgressView",
            "style": "IPY_MODEL_eb1eeb4e5e1041e1bf017c02b683b949",
            "_dom_classes": [],
            "description": "",
            "_model_name": "IntProgressModel",
            "bar_style": "success",
            "max": 1,
            "_view_module": "@jupyter-widgets/controls",
            "_model_module_version": "1.5.0",
            "value": 1,
            "_view_count": null,
            "_view_module_version": "1.5.0",
            "orientation": "horizontal",
            "min": 0,
            "description_tooltip": null,
            "_model_module": "@jupyter-widgets/controls",
            "layout": "IPY_MODEL_b03b8b2bd78349359971922033a7bb9b"
          }
        },
        "841f5183bc5945a2a3bec22f97baa9a2": {
          "model_module": "@jupyter-widgets/controls",
          "model_name": "HTMLModel",
          "state": {
            "_view_name": "HTMLView",
            "style": "IPY_MODEL_845c9ca60bbf4730a8320748af4b3ae0",
            "_dom_classes": [],
            "description": "",
            "_model_name": "HTMLModel",
            "placeholder": "​",
            "_view_module": "@jupyter-widgets/controls",
            "_model_module_version": "1.5.0",
            "value": "32768it [00:00, 186391.01it/s]",
            "_view_count": null,
            "_view_module_version": "1.5.0",
            "description_tooltip": null,
            "_model_module": "@jupyter-widgets/controls",
            "layout": "IPY_MODEL_9c7982b02d504be99dce34cf525a7cf3"
          }
        },
        "eb1eeb4e5e1041e1bf017c02b683b949": {
          "model_module": "@jupyter-widgets/controls",
          "model_name": "ProgressStyleModel",
          "state": {
            "_view_name": "StyleView",
            "_model_name": "ProgressStyleModel",
            "description_width": "",
            "_view_module": "@jupyter-widgets/base",
            "_model_module_version": "1.5.0",
            "_view_count": null,
            "_view_module_version": "1.2.0",
            "bar_color": null,
            "_model_module": "@jupyter-widgets/controls"
          }
        },
        "b03b8b2bd78349359971922033a7bb9b": {
          "model_module": "@jupyter-widgets/base",
          "model_name": "LayoutModel",
          "state": {
            "_view_name": "LayoutView",
            "grid_template_rows": null,
            "right": null,
            "justify_content": null,
            "_view_module": "@jupyter-widgets/base",
            "overflow": null,
            "_model_module_version": "1.2.0",
            "_view_count": null,
            "flex_flow": null,
            "width": null,
            "min_width": null,
            "border": null,
            "align_items": null,
            "bottom": null,
            "_model_module": "@jupyter-widgets/base",
            "top": null,
            "grid_column": null,
            "overflow_y": null,
            "overflow_x": null,
            "grid_auto_flow": null,
            "grid_area": null,
            "grid_template_columns": null,
            "flex": null,
            "_model_name": "LayoutModel",
            "justify_items": null,
            "grid_row": null,
            "max_height": null,
            "align_content": null,
            "visibility": null,
            "align_self": null,
            "height": null,
            "min_height": null,
            "padding": null,
            "grid_auto_rows": null,
            "grid_gap": null,
            "max_width": null,
            "order": null,
            "_view_module_version": "1.2.0",
            "grid_template_areas": null,
            "object_position": null,
            "object_fit": null,
            "grid_auto_columns": null,
            "margin": null,
            "display": null,
            "left": null
          }
        },
        "845c9ca60bbf4730a8320748af4b3ae0": {
          "model_module": "@jupyter-widgets/controls",
          "model_name": "DescriptionStyleModel",
          "state": {
            "_view_name": "StyleView",
            "_model_name": "DescriptionStyleModel",
            "description_width": "",
            "_view_module": "@jupyter-widgets/base",
            "_model_module_version": "1.5.0",
            "_view_count": null,
            "_view_module_version": "1.2.0",
            "_model_module": "@jupyter-widgets/controls"
          }
        },
        "9c7982b02d504be99dce34cf525a7cf3": {
          "model_module": "@jupyter-widgets/base",
          "model_name": "LayoutModel",
          "state": {
            "_view_name": "LayoutView",
            "grid_template_rows": null,
            "right": null,
            "justify_content": null,
            "_view_module": "@jupyter-widgets/base",
            "overflow": null,
            "_model_module_version": "1.2.0",
            "_view_count": null,
            "flex_flow": null,
            "width": null,
            "min_width": null,
            "border": null,
            "align_items": null,
            "bottom": null,
            "_model_module": "@jupyter-widgets/base",
            "top": null,
            "grid_column": null,
            "overflow_y": null,
            "overflow_x": null,
            "grid_auto_flow": null,
            "grid_area": null,
            "grid_template_columns": null,
            "flex": null,
            "_model_name": "LayoutModel",
            "justify_items": null,
            "grid_row": null,
            "max_height": null,
            "align_content": null,
            "visibility": null,
            "align_self": null,
            "height": null,
            "min_height": null,
            "padding": null,
            "grid_auto_rows": null,
            "grid_gap": null,
            "max_width": null,
            "order": null,
            "_view_module_version": "1.2.0",
            "grid_template_areas": null,
            "object_position": null,
            "object_fit": null,
            "grid_auto_columns": null,
            "margin": null,
            "display": null,
            "left": null
          }
        },
        "8201deee8cde4a8d8fc3a4fcd491b531": {
          "model_module": "@jupyter-widgets/controls",
          "model_name": "HBoxModel",
          "state": {
            "_view_name": "HBoxView",
            "_dom_classes": [],
            "_model_name": "HBoxModel",
            "_view_module": "@jupyter-widgets/controls",
            "_model_module_version": "1.5.0",
            "_view_count": null,
            "_view_module_version": "1.5.0",
            "box_style": "",
            "layout": "IPY_MODEL_059047c6cfec429c80fd6a2548364c9b",
            "_model_module": "@jupyter-widgets/controls",
            "children": [
              "IPY_MODEL_fa999f2ef79d4ffca32f743695c95ed9",
              "IPY_MODEL_2e6c7e2559ed4a9b817eb414c4bd8a0e"
            ]
          }
        },
        "059047c6cfec429c80fd6a2548364c9b": {
          "model_module": "@jupyter-widgets/base",
          "model_name": "LayoutModel",
          "state": {
            "_view_name": "LayoutView",
            "grid_template_rows": null,
            "right": null,
            "justify_content": null,
            "_view_module": "@jupyter-widgets/base",
            "overflow": null,
            "_model_module_version": "1.2.0",
            "_view_count": null,
            "flex_flow": null,
            "width": null,
            "min_width": null,
            "border": null,
            "align_items": null,
            "bottom": null,
            "_model_module": "@jupyter-widgets/base",
            "top": null,
            "grid_column": null,
            "overflow_y": null,
            "overflow_x": null,
            "grid_auto_flow": null,
            "grid_area": null,
            "grid_template_columns": null,
            "flex": null,
            "_model_name": "LayoutModel",
            "justify_items": null,
            "grid_row": null,
            "max_height": null,
            "align_content": null,
            "visibility": null,
            "align_self": null,
            "height": null,
            "min_height": null,
            "padding": null,
            "grid_auto_rows": null,
            "grid_gap": null,
            "max_width": null,
            "order": null,
            "_view_module_version": "1.2.0",
            "grid_template_areas": null,
            "object_position": null,
            "object_fit": null,
            "grid_auto_columns": null,
            "margin": null,
            "display": null,
            "left": null
          }
        },
        "fa999f2ef79d4ffca32f743695c95ed9": {
          "model_module": "@jupyter-widgets/controls",
          "model_name": "IntProgressModel",
          "state": {
            "_view_name": "ProgressView",
            "style": "IPY_MODEL_2991b947eb9c42e29915a2f09a65ab81",
            "_dom_classes": [],
            "description": "",
            "_model_name": "IntProgressModel",
            "bar_style": "success",
            "max": 1,
            "_view_module": "@jupyter-widgets/controls",
            "_model_module_version": "1.5.0",
            "value": 1,
            "_view_count": null,
            "_view_module_version": "1.5.0",
            "orientation": "horizontal",
            "min": 0,
            "description_tooltip": null,
            "_model_module": "@jupyter-widgets/controls",
            "layout": "IPY_MODEL_8c1aaa60c7f14e51a9a368cc61261df7"
          }
        },
        "2e6c7e2559ed4a9b817eb414c4bd8a0e": {
          "model_module": "@jupyter-widgets/controls",
          "model_name": "HTMLModel",
          "state": {
            "_view_name": "HTMLView",
            "style": "IPY_MODEL_fbc11b501ecb4a71b24352b461fc83ad",
            "_dom_classes": [],
            "description": "",
            "_model_name": "HTMLModel",
            "placeholder": "​",
            "_view_module": "@jupyter-widgets/controls",
            "_model_module_version": "1.5.0",
            "value": "1654784it [00:00, 4953147.41it/s]",
            "_view_count": null,
            "_view_module_version": "1.5.0",
            "description_tooltip": null,
            "_model_module": "@jupyter-widgets/controls",
            "layout": "IPY_MODEL_374c426f060d46dfb240fbd38d8a98e5"
          }
        },
        "2991b947eb9c42e29915a2f09a65ab81": {
          "model_module": "@jupyter-widgets/controls",
          "model_name": "ProgressStyleModel",
          "state": {
            "_view_name": "StyleView",
            "_model_name": "ProgressStyleModel",
            "description_width": "",
            "_view_module": "@jupyter-widgets/base",
            "_model_module_version": "1.5.0",
            "_view_count": null,
            "_view_module_version": "1.2.0",
            "bar_color": null,
            "_model_module": "@jupyter-widgets/controls"
          }
        },
        "8c1aaa60c7f14e51a9a368cc61261df7": {
          "model_module": "@jupyter-widgets/base",
          "model_name": "LayoutModel",
          "state": {
            "_view_name": "LayoutView",
            "grid_template_rows": null,
            "right": null,
            "justify_content": null,
            "_view_module": "@jupyter-widgets/base",
            "overflow": null,
            "_model_module_version": "1.2.0",
            "_view_count": null,
            "flex_flow": null,
            "width": null,
            "min_width": null,
            "border": null,
            "align_items": null,
            "bottom": null,
            "_model_module": "@jupyter-widgets/base",
            "top": null,
            "grid_column": null,
            "overflow_y": null,
            "overflow_x": null,
            "grid_auto_flow": null,
            "grid_area": null,
            "grid_template_columns": null,
            "flex": null,
            "_model_name": "LayoutModel",
            "justify_items": null,
            "grid_row": null,
            "max_height": null,
            "align_content": null,
            "visibility": null,
            "align_self": null,
            "height": null,
            "min_height": null,
            "padding": null,
            "grid_auto_rows": null,
            "grid_gap": null,
            "max_width": null,
            "order": null,
            "_view_module_version": "1.2.0",
            "grid_template_areas": null,
            "object_position": null,
            "object_fit": null,
            "grid_auto_columns": null,
            "margin": null,
            "display": null,
            "left": null
          }
        },
        "fbc11b501ecb4a71b24352b461fc83ad": {
          "model_module": "@jupyter-widgets/controls",
          "model_name": "DescriptionStyleModel",
          "state": {
            "_view_name": "StyleView",
            "_model_name": "DescriptionStyleModel",
            "description_width": "",
            "_view_module": "@jupyter-widgets/base",
            "_model_module_version": "1.5.0",
            "_view_count": null,
            "_view_module_version": "1.2.0",
            "_model_module": "@jupyter-widgets/controls"
          }
        },
        "374c426f060d46dfb240fbd38d8a98e5": {
          "model_module": "@jupyter-widgets/base",
          "model_name": "LayoutModel",
          "state": {
            "_view_name": "LayoutView",
            "grid_template_rows": null,
            "right": null,
            "justify_content": null,
            "_view_module": "@jupyter-widgets/base",
            "overflow": null,
            "_model_module_version": "1.2.0",
            "_view_count": null,
            "flex_flow": null,
            "width": null,
            "min_width": null,
            "border": null,
            "align_items": null,
            "bottom": null,
            "_model_module": "@jupyter-widgets/base",
            "top": null,
            "grid_column": null,
            "overflow_y": null,
            "overflow_x": null,
            "grid_auto_flow": null,
            "grid_area": null,
            "grid_template_columns": null,
            "flex": null,
            "_model_name": "LayoutModel",
            "justify_items": null,
            "grid_row": null,
            "max_height": null,
            "align_content": null,
            "visibility": null,
            "align_self": null,
            "height": null,
            "min_height": null,
            "padding": null,
            "grid_auto_rows": null,
            "grid_gap": null,
            "max_width": null,
            "order": null,
            "_view_module_version": "1.2.0",
            "grid_template_areas": null,
            "object_position": null,
            "object_fit": null,
            "grid_auto_columns": null,
            "margin": null,
            "display": null,
            "left": null
          }
        },
        "ec996f32bda841e7915e25a0594ae5c6": {
          "model_module": "@jupyter-widgets/controls",
          "model_name": "HBoxModel",
          "state": {
            "_view_name": "HBoxView",
            "_dom_classes": [],
            "_model_name": "HBoxModel",
            "_view_module": "@jupyter-widgets/controls",
            "_model_module_version": "1.5.0",
            "_view_count": null,
            "_view_module_version": "1.5.0",
            "box_style": "",
            "layout": "IPY_MODEL_f15b813230ce4b2e8c48f1647e56f476",
            "_model_module": "@jupyter-widgets/controls",
            "children": [
              "IPY_MODEL_2d67bd76559c4380a3d2e24d83a11799",
              "IPY_MODEL_5ba9b9705b9e478da6219236f7e5563e"
            ]
          }
        },
        "f15b813230ce4b2e8c48f1647e56f476": {
          "model_module": "@jupyter-widgets/base",
          "model_name": "LayoutModel",
          "state": {
            "_view_name": "LayoutView",
            "grid_template_rows": null,
            "right": null,
            "justify_content": null,
            "_view_module": "@jupyter-widgets/base",
            "overflow": null,
            "_model_module_version": "1.2.0",
            "_view_count": null,
            "flex_flow": null,
            "width": null,
            "min_width": null,
            "border": null,
            "align_items": null,
            "bottom": null,
            "_model_module": "@jupyter-widgets/base",
            "top": null,
            "grid_column": null,
            "overflow_y": null,
            "overflow_x": null,
            "grid_auto_flow": null,
            "grid_area": null,
            "grid_template_columns": null,
            "flex": null,
            "_model_name": "LayoutModel",
            "justify_items": null,
            "grid_row": null,
            "max_height": null,
            "align_content": null,
            "visibility": null,
            "align_self": null,
            "height": null,
            "min_height": null,
            "padding": null,
            "grid_auto_rows": null,
            "grid_gap": null,
            "max_width": null,
            "order": null,
            "_view_module_version": "1.2.0",
            "grid_template_areas": null,
            "object_position": null,
            "object_fit": null,
            "grid_auto_columns": null,
            "margin": null,
            "display": null,
            "left": null
          }
        },
        "2d67bd76559c4380a3d2e24d83a11799": {
          "model_module": "@jupyter-widgets/controls",
          "model_name": "IntProgressModel",
          "state": {
            "_view_name": "ProgressView",
            "style": "IPY_MODEL_e93027a18f594b0a9292a2894911bc1e",
            "_dom_classes": [],
            "description": "",
            "_model_name": "IntProgressModel",
            "bar_style": "success",
            "max": 1,
            "_view_module": "@jupyter-widgets/controls",
            "_model_module_version": "1.5.0",
            "value": 1,
            "_view_count": null,
            "_view_module_version": "1.5.0",
            "orientation": "horizontal",
            "min": 0,
            "description_tooltip": null,
            "_model_module": "@jupyter-widgets/controls",
            "layout": "IPY_MODEL_2fb846307efc4f89a6ffd3469bda1268"
          }
        },
        "5ba9b9705b9e478da6219236f7e5563e": {
          "model_module": "@jupyter-widgets/controls",
          "model_name": "HTMLModel",
          "state": {
            "_view_name": "HTMLView",
            "style": "IPY_MODEL_bd472f76991948d9b897a1b550485a58",
            "_dom_classes": [],
            "description": "",
            "_model_name": "HTMLModel",
            "placeholder": "​",
            "_view_module": "@jupyter-widgets/controls",
            "_model_module_version": "1.5.0",
            "value": "8192it [00:00, 55881.40it/s]",
            "_view_count": null,
            "_view_module_version": "1.5.0",
            "description_tooltip": null,
            "_model_module": "@jupyter-widgets/controls",
            "layout": "IPY_MODEL_b361da48898d4a688386ef3ac19c0081"
          }
        },
        "e93027a18f594b0a9292a2894911bc1e": {
          "model_module": "@jupyter-widgets/controls",
          "model_name": "ProgressStyleModel",
          "state": {
            "_view_name": "StyleView",
            "_model_name": "ProgressStyleModel",
            "description_width": "",
            "_view_module": "@jupyter-widgets/base",
            "_model_module_version": "1.5.0",
            "_view_count": null,
            "_view_module_version": "1.2.0",
            "bar_color": null,
            "_model_module": "@jupyter-widgets/controls"
          }
        },
        "2fb846307efc4f89a6ffd3469bda1268": {
          "model_module": "@jupyter-widgets/base",
          "model_name": "LayoutModel",
          "state": {
            "_view_name": "LayoutView",
            "grid_template_rows": null,
            "right": null,
            "justify_content": null,
            "_view_module": "@jupyter-widgets/base",
            "overflow": null,
            "_model_module_version": "1.2.0",
            "_view_count": null,
            "flex_flow": null,
            "width": null,
            "min_width": null,
            "border": null,
            "align_items": null,
            "bottom": null,
            "_model_module": "@jupyter-widgets/base",
            "top": null,
            "grid_column": null,
            "overflow_y": null,
            "overflow_x": null,
            "grid_auto_flow": null,
            "grid_area": null,
            "grid_template_columns": null,
            "flex": null,
            "_model_name": "LayoutModel",
            "justify_items": null,
            "grid_row": null,
            "max_height": null,
            "align_content": null,
            "visibility": null,
            "align_self": null,
            "height": null,
            "min_height": null,
            "padding": null,
            "grid_auto_rows": null,
            "grid_gap": null,
            "max_width": null,
            "order": null,
            "_view_module_version": "1.2.0",
            "grid_template_areas": null,
            "object_position": null,
            "object_fit": null,
            "grid_auto_columns": null,
            "margin": null,
            "display": null,
            "left": null
          }
        },
        "bd472f76991948d9b897a1b550485a58": {
          "model_module": "@jupyter-widgets/controls",
          "model_name": "DescriptionStyleModel",
          "state": {
            "_view_name": "StyleView",
            "_model_name": "DescriptionStyleModel",
            "description_width": "",
            "_view_module": "@jupyter-widgets/base",
            "_model_module_version": "1.5.0",
            "_view_count": null,
            "_view_module_version": "1.2.0",
            "_model_module": "@jupyter-widgets/controls"
          }
        },
        "b361da48898d4a688386ef3ac19c0081": {
          "model_module": "@jupyter-widgets/base",
          "model_name": "LayoutModel",
          "state": {
            "_view_name": "LayoutView",
            "grid_template_rows": null,
            "right": null,
            "justify_content": null,
            "_view_module": "@jupyter-widgets/base",
            "overflow": null,
            "_model_module_version": "1.2.0",
            "_view_count": null,
            "flex_flow": null,
            "width": null,
            "min_width": null,
            "border": null,
            "align_items": null,
            "bottom": null,
            "_model_module": "@jupyter-widgets/base",
            "top": null,
            "grid_column": null,
            "overflow_y": null,
            "overflow_x": null,
            "grid_auto_flow": null,
            "grid_area": null,
            "grid_template_columns": null,
            "flex": null,
            "_model_name": "LayoutModel",
            "justify_items": null,
            "grid_row": null,
            "max_height": null,
            "align_content": null,
            "visibility": null,
            "align_self": null,
            "height": null,
            "min_height": null,
            "padding": null,
            "grid_auto_rows": null,
            "grid_gap": null,
            "max_width": null,
            "order": null,
            "_view_module_version": "1.2.0",
            "grid_template_areas": null,
            "object_position": null,
            "object_fit": null,
            "grid_auto_columns": null,
            "margin": null,
            "display": null,
            "left": null
          }
        }
      }
    }
  },
  "cells": [
    {
      "cell_type": "markdown",
      "metadata": {
        "colab_type": "text",
        "id": "x8Y0wbnQXtBK"
      },
      "source": [
        "# Install pytorch-xla to use multiple TPUs"
      ]
    },
    {
      "cell_type": "code",
      "metadata": {
        "colab_type": "code",
        "id": "mS3Zm45XXtBM",
        "outputId": "dee25aa5-22e2-4d90-b895-42a3b59408f3",
        "colab": {
          "base_uri": "https://localhost:8080/",
          "height": 1000
        }
      },
      "source": [
        "import os\n",
        "assert os.environ['COLAB_TPU_ADDR'], 'Make sure to select TPU from Edit > Notebook settings > Hardware accelerator'\n",
        "\n",
        "VERSION = \"20200220\"#\"xrt==1.15.0\"\n",
        "!curl https://raw.githubusercontent.com/pytorch/xla/master/contrib/scripts/env-setup.py -o pytorch-xla-env-setup.py\n",
        "!python pytorch-xla-env-setup.py --version $VERSION"
      ],
      "execution_count": 1,
      "outputs": [
        {
          "output_type": "stream",
          "text": [
            "  % Total    % Received % Xferd  Average Speed   Time    Time     Time  Current\n",
            "                                 Dload  Upload   Total   Spent    Left  Speed\n",
            "\r  0     0    0     0    0     0      0      0 --:--:-- --:--:-- --:--:--     0\r100  3566  100  3566    0     0  16900      0 --:--:-- --:--:-- --:--:-- 16900\n",
            "Updating TPU and VM. This may take around 2 minutes.\n",
            "Updating TPU runtime to 20200220 ...\n",
            "Uninstalling torch-1.4.0:\n",
            "Done updating TPU runtime: <Response [200]>\n",
            "  Successfully uninstalled torch-1.4.0\n",
            "Uninstalling torchvision-0.5.0:\n",
            "  Successfully uninstalled torchvision-0.5.0\n",
            "Copying gs://tpu-pytorch/wheels/torch-nightly+20200220-cp36-cp36m-linux_x86_64.whl...\n",
            "- [1 files][ 79.6 MiB/ 79.6 MiB]                                                \n",
            "Operation completed over 1 objects/79.6 MiB.                                     \n",
            "Copying gs://tpu-pytorch/wheels/torch_xla-nightly+20200220-cp36-cp36m-linux_x86_64.whl...\n",
            "- [1 files][111.9 MiB/111.9 MiB]                                                \n",
            "Operation completed over 1 objects/111.9 MiB.                                    \n",
            "Copying gs://tpu-pytorch/wheels/torchvision-nightly+20200220-cp36-cp36m-linux_x86_64.whl...\n",
            "/ [1 files][  2.5 MiB/  2.5 MiB]                                                \n",
            "Operation completed over 1 objects/2.5 MiB.                                      \n",
            "Processing ./torch-nightly+20200220-cp36-cp36m-linux_x86_64.whl\n",
            "\u001b[31mERROR: fastai 1.0.60 requires torchvision, which is not installed.\u001b[0m\n",
            "Installing collected packages: torch\n",
            "Successfully installed torch-1.5.0a0+e95282a\n",
            "Processing ./torch_xla-nightly+20200220-cp36-cp36m-linux_x86_64.whl\n",
            "Installing collected packages: torch-xla\n",
            "Successfully installed torch-xla-0.8+58cc64c\n",
            "Processing ./torchvision-nightly+20200220-cp36-cp36m-linux_x86_64.whl\n",
            "Requirement already satisfied: pillow>=4.1.1 in /usr/local/lib/python3.6/dist-packages (from torchvision==nightly+20200220) (6.2.2)\n",
            "Requirement already satisfied: torch in /usr/local/lib/python3.6/dist-packages (from torchvision==nightly+20200220) (1.5.0a0+e95282a)\n",
            "Requirement already satisfied: six in /usr/local/lib/python3.6/dist-packages (from torchvision==nightly+20200220) (1.12.0)\n",
            "Requirement already satisfied: numpy in /usr/local/lib/python3.6/dist-packages (from torchvision==nightly+20200220) (1.17.5)\n",
            "Installing collected packages: torchvision\n",
            "Successfully installed torchvision-0.6.0a0+6c2cda6\n",
            "Reading package lists... Done\n",
            "Building dependency tree       \n",
            "Reading state information... Done\n",
            "The following package was automatically installed and is no longer required:\n",
            "  libnvidia-common-430\n",
            "Use 'sudo apt autoremove' to remove it.\n",
            "The following NEW packages will be installed:\n",
            "  libomp5\n",
            "0 upgraded, 1 newly installed, 0 to remove and 25 not upgraded.\n",
            "Need to get 234 kB of archives.\n",
            "After this operation, 774 kB of additional disk space will be used.\n",
            "Get:1 http://archive.ubuntu.com/ubuntu bionic/universe amd64 libomp5 amd64 5.0.1-1 [234 kB]\n",
            "Fetched 234 kB in 1s (362 kB/s)\n",
            "debconf: unable to initialize frontend: Dialog\n",
            "debconf: (No usable dialog-like program is installed, so the dialog based frontend cannot be used. at /usr/share/perl5/Debconf/FrontEnd/Dialog.pm line 76, <> line 1.)\n",
            "debconf: falling back to frontend: Readline\n",
            "debconf: unable to initialize frontend: Readline\n",
            "debconf: (This frontend requires a controlling tty.)\n",
            "debconf: falling back to frontend: Teletype\n",
            "dpkg-preconfigure: unable to re-open stdin: \n",
            "Selecting previously unselected package libomp5:amd64.\n",
            "(Reading database ... 134443 files and directories currently installed.)\n",
            "Preparing to unpack .../libomp5_5.0.1-1_amd64.deb ...\n",
            "Unpacking libomp5:amd64 (5.0.1-1) ...\n",
            "Setting up libomp5:amd64 (5.0.1-1) ...\n",
            "Processing triggers for libc-bin (2.27-3ubuntu1) ...\n",
            "/sbin/ldconfig.real: /usr/local/lib/python3.6/dist-packages/ideep4py/lib/libmkldnn.so.0 is not a symbolic link\n",
            "\n"
          ],
          "name": "stdout"
        }
      ]
    },
    {
      "cell_type": "markdown",
      "metadata": {
        "colab_type": "text",
        "id": "ntM1gjxnXtBT"
      },
      "source": [
        "# Import libraries "
      ]
    },
    {
      "cell_type": "code",
      "metadata": {
        "colab_type": "code",
        "id": "pJ4N9tefXtBU",
        "colab": {}
      },
      "source": [
        "import torch\n",
        "import torch.nn as nn\n",
        "import torch.nn.functional as F\n",
        "import torch.optim as optim\n",
        "\n",
        "from torchvision import datasets, transforms\n",
        "from torch.optim.lr_scheduler import StepLR\n",
        "\n",
        "import numpy as np\n",
        "\n",
        "from time import time"
      ],
      "execution_count": 0,
      "outputs": []
    },
    {
      "cell_type": "markdown",
      "metadata": {
        "colab_type": "text",
        "id": "d_rdRVi4XtBZ"
      },
      "source": [
        "## import torch_xla to use pytorch on TPU "
      ]
    },
    {
      "cell_type": "code",
      "metadata": {
        "colab_type": "code",
        "id": "YGurVu5EXtBa",
        "colab": {}
      },
      "source": [
        "# imports the torch_xla package\n",
        "import torch_xla\n",
        "import torch_xla.core.xla_model as xm"
      ],
      "execution_count": 0,
      "outputs": []
    },
    {
      "cell_type": "markdown",
      "metadata": {
        "colab_type": "text",
        "id": "pK21BD2IXtBd"
      },
      "source": [
        "## import torch_xla.distributed for multiple TPUs"
      ]
    },
    {
      "cell_type": "code",
      "metadata": {
        "colab_type": "code",
        "id": "wRGzePC0XtBe",
        "colab": {}
      },
      "source": [
        "import torch_xla.distributed.xla_multiprocessing as xmp\n",
        "import torch_xla.distributed.parallel_loader as pl"
      ],
      "execution_count": 0,
      "outputs": []
    },
    {
      "cell_type": "markdown",
      "metadata": {
        "colab_type": "text",
        "id": "JYwwEj4qXtBj"
      },
      "source": [
        "# Download MNIST dataset"
      ]
    },
    {
      "cell_type": "code",
      "metadata": {
        "colab_type": "code",
        "id": "AjBN3YwLXtBk",
        "colab": {
          "base_uri": "https://localhost:8080/",
          "height": 383,
          "referenced_widgets": [
            "2d5022059b3f4671b4dd44b88f73c124",
            "f55e301752094a28a2d418132df0cb94",
            "bc08687b186247e6b41a824f82c8e6d8",
            "d8713128b5214f19993a6893d8401d2c",
            "d1d2a0826e374d55a8495d195a413205",
            "6136435110f5456da41cf14d4e029d4f",
            "d6cc3449e50a499d9838e19f0edec161",
            "05286b3818f546fe8c7dddf68eac8791",
            "f72c63ab9bb54f40a86383e271d2c157",
            "e7b7656ac68c45bab0c130440e8f7ca1",
            "1dc6d6cbe4a34582a5f232acb12ebaf6",
            "841f5183bc5945a2a3bec22f97baa9a2",
            "eb1eeb4e5e1041e1bf017c02b683b949",
            "b03b8b2bd78349359971922033a7bb9b",
            "845c9ca60bbf4730a8320748af4b3ae0",
            "9c7982b02d504be99dce34cf525a7cf3",
            "8201deee8cde4a8d8fc3a4fcd491b531",
            "059047c6cfec429c80fd6a2548364c9b",
            "fa999f2ef79d4ffca32f743695c95ed9",
            "2e6c7e2559ed4a9b817eb414c4bd8a0e",
            "2991b947eb9c42e29915a2f09a65ab81",
            "8c1aaa60c7f14e51a9a368cc61261df7",
            "fbc11b501ecb4a71b24352b461fc83ad",
            "374c426f060d46dfb240fbd38d8a98e5",
            "ec996f32bda841e7915e25a0594ae5c6",
            "f15b813230ce4b2e8c48f1647e56f476",
            "2d67bd76559c4380a3d2e24d83a11799",
            "5ba9b9705b9e478da6219236f7e5563e",
            "e93027a18f594b0a9292a2894911bc1e",
            "2fb846307efc4f89a6ffd3469bda1268",
            "bd472f76991948d9b897a1b550485a58",
            "b361da48898d4a688386ef3ac19c0081"
          ]
        },
        "outputId": "fc4b1e2e-369e-4570-a33a-db48b6acbe40"
      },
      "source": [
        "train_dataset =  datasets.MNIST('../data', train=True, download=True)"
      ],
      "execution_count": 5,
      "outputs": [
        {
          "output_type": "stream",
          "text": [
            "Downloading http://yann.lecun.com/exdb/mnist/train-images-idx3-ubyte.gz to ../data/MNIST/raw/train-images-idx3-ubyte.gz\n"
          ],
          "name": "stdout"
        },
        {
          "output_type": "display_data",
          "data": {
            "application/vnd.jupyter.widget-view+json": {
              "model_id": "2d5022059b3f4671b4dd44b88f73c124",
              "version_minor": 0,
              "version_major": 2
            },
            "text/plain": [
              "HBox(children=(IntProgress(value=1, bar_style='info', max=1), HTML(value='')))"
            ]
          },
          "metadata": {
            "tags": []
          }
        },
        {
          "output_type": "stream",
          "text": [
            "\n",
            "Extracting ../data/MNIST/raw/train-images-idx3-ubyte.gz to ../data/MNIST/raw\n",
            "Downloading http://yann.lecun.com/exdb/mnist/train-labels-idx1-ubyte.gz to ../data/MNIST/raw/train-labels-idx1-ubyte.gz\n"
          ],
          "name": "stdout"
        },
        {
          "output_type": "display_data",
          "data": {
            "application/vnd.jupyter.widget-view+json": {
              "model_id": "f72c63ab9bb54f40a86383e271d2c157",
              "version_minor": 0,
              "version_major": 2
            },
            "text/plain": [
              "HBox(children=(IntProgress(value=1, bar_style='info', max=1), HTML(value='')))"
            ]
          },
          "metadata": {
            "tags": []
          }
        },
        {
          "output_type": "stream",
          "text": [
            "\n",
            "Extracting ../data/MNIST/raw/train-labels-idx1-ubyte.gz to ../data/MNIST/raw\n",
            "Downloading http://yann.lecun.com/exdb/mnist/t10k-images-idx3-ubyte.gz to ../data/MNIST/raw/t10k-images-idx3-ubyte.gz\n"
          ],
          "name": "stdout"
        },
        {
          "output_type": "display_data",
          "data": {
            "application/vnd.jupyter.widget-view+json": {
              "model_id": "8201deee8cde4a8d8fc3a4fcd491b531",
              "version_minor": 0,
              "version_major": 2
            },
            "text/plain": [
              "HBox(children=(IntProgress(value=1, bar_style='info', max=1), HTML(value='')))"
            ]
          },
          "metadata": {
            "tags": []
          }
        },
        {
          "output_type": "stream",
          "text": [
            "\n",
            "Extracting ../data/MNIST/raw/t10k-images-idx3-ubyte.gz to ../data/MNIST/raw\n",
            "Downloading http://yann.lecun.com/exdb/mnist/t10k-labels-idx1-ubyte.gz to ../data/MNIST/raw/t10k-labels-idx1-ubyte.gz\n"
          ],
          "name": "stdout"
        },
        {
          "output_type": "display_data",
          "data": {
            "application/vnd.jupyter.widget-view+json": {
              "model_id": "ec996f32bda841e7915e25a0594ae5c6",
              "version_minor": 0,
              "version_major": 2
            },
            "text/plain": [
              "HBox(children=(IntProgress(value=1, bar_style='info', max=1), HTML(value='')))"
            ]
          },
          "metadata": {
            "tags": []
          }
        },
        {
          "output_type": "stream",
          "text": [
            "\n",
            "Extracting ../data/MNIST/raw/t10k-labels-idx1-ubyte.gz to ../data/MNIST/raw\n",
            "Processing...\n",
            "Done!\n"
          ],
          "name": "stdout"
        }
      ]
    },
    {
      "cell_type": "markdown",
      "metadata": {
        "colab_type": "text",
        "id": "a6Q-9XezXtBp"
      },
      "source": [
        "# Simple example with MNIST dataset"
      ]
    },
    {
      "cell_type": "markdown",
      "metadata": {
        "colab_type": "text",
        "id": "Nk90RQSnXtBq"
      },
      "source": [
        "## Define simple convolution network"
      ]
    },
    {
      "cell_type": "code",
      "metadata": {
        "colab_type": "code",
        "id": "RGuOO4EDXtBr",
        "colab": {}
      },
      "source": [
        "class Net(nn.Module):\n",
        "    def __init__(self):\n",
        "        super(Net, self).__init__()\n",
        "        self.conv1 = nn.Conv2d(1, 32, 3, 1)\n",
        "        self.conv2 = nn.Conv2d(32, 64, 3, 1)\n",
        "        self.dropout1 = nn.Dropout2d(0.25)\n",
        "        self.dropout2 = nn.Dropout2d(0.5)\n",
        "        self.fc1 = nn.Linear(9216, 128)\n",
        "        self.fc2 = nn.Linear(128, 10)\n",
        "\n",
        "    def forward(self, x):\n",
        "        x = self.conv1(x)\n",
        "        x = F.relu(x)\n",
        "        x = self.conv2(x)\n",
        "        x = F.max_pool2d(x, 2)\n",
        "        x = self.dropout1(x)\n",
        "        x = torch.flatten(x, 1)\n",
        "        x = self.fc1(x)\n",
        "        x = F.relu(x)\n",
        "        x = self.dropout2(x)\n",
        "        x = self.fc2(x)\n",
        "        output = F.log_softmax(x, dim=1)\n",
        "        return output"
      ],
      "execution_count": 0,
      "outputs": []
    },
    {
      "cell_type": "markdown",
      "metadata": {
        "colab_type": "text",
        "id": "4NrxNeOsXtBu"
      },
      "source": [
        "## Define train function as map function"
      ]
    },
    {
      "cell_type": "code",
      "metadata": {
        "colab_type": "code",
        "id": "O1IK7qGLXtBv",
        "colab": {}
      },
      "source": [
        "# \"Map function\": acquires a corresponding Cloud TPU core, creates a tensor on it,\n",
        "# and prints its core\n",
        "def map_fn(index):\n",
        "  # Training settings\n",
        "  batch_size=128\n",
        "  epochs=10\n",
        "  lr=1\n",
        "  gamma=0.7\n",
        "  log_interval=10\n",
        "  \n",
        "  device = xm.xla_device()  \n",
        "\n",
        "  train_dataset =  datasets.MNIST('../data', train=True, download=True,\n",
        "                      transform=transforms.Compose([\n",
        "                          transforms.ToTensor(),\n",
        "                          transforms.Normalize((0.1307,), (0.3081,))]))\n",
        "\n",
        "  test_dataset = datasets.MNIST('../data', train=False, transform=transforms.Compose([\n",
        "                          transforms.ToTensor(),\n",
        "                          transforms.Normalize((0.1307,), (0.3081,))]))\n",
        "\n",
        "  train_sampler = torch.utils.data.distributed.DistributedSampler(\n",
        "    train_dataset,\n",
        "    num_replicas=xm.xrt_world_size(),\n",
        "    rank=xm.get_ordinal(),\n",
        "    shuffle=True)\n",
        "  \n",
        "  test_sampler = torch.utils.data.distributed.DistributedSampler(\n",
        "    test_dataset,\n",
        "    num_replicas=xm.xrt_world_size(),\n",
        "    rank=xm.get_ordinal(),\n",
        "    shuffle=False)\n",
        "\n",
        "  train_loader = torch.utils.data.DataLoader(train_dataset, batch_size=batch_size, \n",
        "                                             sampler=train_sampler,\n",
        "                                             num_workers=4)\n",
        "  test_loader = torch.utils.data.DataLoader(test_dataset, batch_size=batch_size, \n",
        "                                            sampler=test_sampler,\n",
        "                                            num_workers=4)\n",
        "\n",
        "  model = Net().to(device)\n",
        "  optimizer = optim.Adadelta(model.parameters(), lr=lr)\n",
        "\n",
        "  scheduler = StepLR(optimizer, step_size=1, gamma=gamma)\n",
        "\n",
        "  print(\"Process\", index ,\"is using\", xm.xla_real_devices([str(device)])[0])\n",
        "  device_times, epoch_times = [], []\n",
        "  for epoch in range(1, epochs + 1):\n",
        "      start_epoch_t = time()\n",
        "      para_train_loader = pl.ParallelLoader(train_loader, [device]).per_device_loader(device)\n",
        "      model.train()\n",
        "      times, losses = [], []\n",
        "      for batch_idx, (data, target) in enumerate(para_train_loader):\n",
        "          start_it_t = time()\n",
        "          data, target = data.to(device), target.to(device)\n",
        "          optimizer.zero_grad()\n",
        "          output = model(data)\n",
        "          loss = F.nll_loss(output, target)\n",
        "          losses.append(loss.cpu().item())\n",
        "          loss.backward()\n",
        "          xm.optimizer_step(optimizer)\n",
        "          times.append(time()-start_it_t)\n",
        "          device_times.append(times[-1])\n",
        "      print(\"[Epoch %d] %s [Train] Avg. loss: %.3f, Total time: %.3f(s/epoch), Avg. time: %.3f(s/iter)\"\\\n",
        "      %(epoch, xm.xla_real_devices([str(device)])[0], np.mean(losses), \n",
        "        time()-start_epoch_t, np.mean(times)))\n",
        "      \n",
        "      para_test_loader = pl.ParallelLoader(test_loader, [device]).per_device_loader(device)\n",
        "      model.eval()\n",
        "      test_loss = 0\n",
        "      correct = 0\n",
        "      with torch.no_grad():\n",
        "          len_data = 0\n",
        "          for data, target in para_test_loader:\n",
        "              len_data += len(data)\n",
        "              data, target = data.to(device), target.to(device)\n",
        "              output = model(data)\n",
        "              test_loss += F.nll_loss(output, target, reduction='sum').item()  # sum up batch loss\n",
        "              pred = output.argmax(dim=1, keepdim=True)  # get the index of the max log-probability\n",
        "              correct += pred.eq(target.view_as(pred)).sum().item()\n",
        "\n",
        "      test_loss /= len_data\n",
        "\n",
        "      print(\"[Epoch %d] %s [Test] Avg. loss: %.4f, Accuracy: %d/%d (%.2f%%)\"\\\n",
        "      %(epoch, xm.xla_real_devices([str(device)])[0], test_loss, correct, len_data, \n",
        "        100. * correct / len_data))\n",
        "      scheduler.step()\n",
        "      epoch_times.append(time()-start_epoch_t)\n",
        "  print(\"%s, Avg. time: %.3f(s/iter), std:%.3f, Avg. time: %.3f(s/epoch), std:%.3f\"\\\n",
        "        %(xm.xla_real_devices([str(device)])[0], np.mean(device_times), np.std(device_times),  np.mean(epoch_times), np.std(epoch_times)))"
      ],
      "execution_count": 0,
      "outputs": []
    },
    {
      "cell_type": "markdown",
      "metadata": {
        "colab_type": "text",
        "id": "rXlgecKSXtBz"
      },
      "source": [
        "## Train the model with multiple TPUs "
      ]
    },
    {
      "cell_type": "code",
      "metadata": {
        "colab_type": "code",
        "id": "NjUX6qMmXtB0",
        "outputId": "4aabe14c-a9c1-4adb-bd3f-e24f8e4f8bea",
        "colab": {
          "base_uri": "https://localhost:8080/",
          "height": 1000
        }
      },
      "source": [
        "# Spawns eight of the map functions, one for each of the eight cores on\n",
        "# the Cloud TPU\n",
        "\n",
        "# Note: Colab only supports start_method='fork'\n",
        "start_trn_time = time()\n",
        "xmp.spawn(map_fn, nprocs=8, start_method='fork')\n",
        "print(\"Train time: %.3fs\"%(time()-start_trn_time))"
      ],
      "execution_count": 8,
      "outputs": [
        {
          "output_type": "stream",
          "text": [
            "Process 0 is using TPU:0\n"
          ],
          "name": "stdout"
        },
        {
          "output_type": "stream",
          "text": [
            "/pytorch/torch/csrc/utils/python_arg_parser.cpp:698: UserWarning: This overload of addcmul_ is deprecated:\n",
            "\taddcmul_(Number value, Tensor tensor1, Tensor tensor2)\n",
            "Consider using one of the following signatures instead:\n",
            "\taddcmul_(Tensor tensor1, Tensor tensor2, Number value)\n"
          ],
          "name": "stderr"
        },
        {
          "output_type": "stream",
          "text": [
            "Process 6 is using TPU:6\n",
            "Process 3 is using TPU:3\n",
            "Process 7 is using TPU:7\n"
          ],
          "name": "stdout"
        },
        {
          "output_type": "stream",
          "text": [
            "/pytorch/torch/csrc/utils/python_arg_parser.cpp:698: UserWarning: This overload of addcmul_ is deprecated:\n",
            "\taddcmul_(Number value, Tensor tensor1, Tensor tensor2)\n",
            "Consider using one of the following signatures instead:\n",
            "\taddcmul_(Tensor tensor1, Tensor tensor2, Number value)\n"
          ],
          "name": "stderr"
        },
        {
          "output_type": "stream",
          "text": [
            "Process 5 is using TPU:5\n",
            "Process 2 is using TPU:2\n"
          ],
          "name": "stdout"
        },
        {
          "output_type": "stream",
          "text": [
            "/pytorch/torch/csrc/utils/python_arg_parser.cpp:698: UserWarning: This overload of addcmul_ is deprecated:\n",
            "\taddcmul_(Number value, Tensor tensor1, Tensor tensor2)\n",
            "Consider using one of the following signatures instead:\n",
            "\taddcmul_(Tensor tensor1, Tensor tensor2, Number value)\n",
            "/pytorch/torch/csrc/utils/python_arg_parser.cpp:698: UserWarning: This overload of addcmul_ is deprecated:\n",
            "\taddcmul_(Number value, Tensor tensor1, Tensor tensor2)\n",
            "Consider using one of the following signatures instead:\n",
            "\taddcmul_(Tensor tensor1, Tensor tensor2, Number value)\n"
          ],
          "name": "stderr"
        },
        {
          "output_type": "stream",
          "text": [
            "Process 1 is using TPU:1\n"
          ],
          "name": "stdout"
        },
        {
          "output_type": "stream",
          "text": [
            "/pytorch/torch/csrc/utils/python_arg_parser.cpp:698: UserWarning: This overload of addcmul_ is deprecated:\n",
            "\taddcmul_(Number value, Tensor tensor1, Tensor tensor2)\n",
            "Consider using one of the following signatures instead:\n",
            "\taddcmul_(Tensor tensor1, Tensor tensor2, Number value)\n",
            "/pytorch/torch/csrc/utils/python_arg_parser.cpp:698: UserWarning: This overload of addcmul_ is deprecated:\n",
            "\taddcmul_(Number value, Tensor tensor1, Tensor tensor2)\n",
            "Consider using one of the following signatures instead:\n",
            "\taddcmul_(Tensor tensor1, Tensor tensor2, Number value)\n"
          ],
          "name": "stderr"
        },
        {
          "output_type": "stream",
          "text": [
            "Process 4 is using TPU:4\n"
          ],
          "name": "stdout"
        },
        {
          "output_type": "stream",
          "text": [
            "/pytorch/torch/csrc/utils/python_arg_parser.cpp:698: UserWarning: This overload of addcmul_ is deprecated:\n",
            "\taddcmul_(Number value, Tensor tensor1, Tensor tensor2)\n",
            "Consider using one of the following signatures instead:\n",
            "\taddcmul_(Tensor tensor1, Tensor tensor2, Number value)\n",
            "/pytorch/torch/csrc/utils/python_arg_parser.cpp:698: UserWarning: This overload of addcmul_ is deprecated:\n",
            "\taddcmul_(Number value, Tensor tensor1, Tensor tensor2)\n",
            "Consider using one of the following signatures instead:\n",
            "\taddcmul_(Tensor tensor1, Tensor tensor2, Number value)\n"
          ],
          "name": "stderr"
        },
        {
          "output_type": "stream",
          "text": [
            "[Epoch 1] TPU:1 [Train] Avg. loss: 0.761, Total time: 3.348(s/epoch), Avg. time: 0.031(s/iter)\n",
            "[Epoch 1] TPU:5 [Train] Avg. loss: 0.746, Total time: 3.662(s/epoch), Avg. time: 0.035(s/iter)\n",
            "[Epoch 1] TPU:2 [Train] Avg. loss: 0.771, Total time: 3.659(s/epoch), Avg. time: 0.035(s/iter)\n",
            "[Epoch 1] TPU:4 [Train] Avg. loss: 0.746, Total time: 3.165(s/epoch), Avg. time: 0.028(s/iter)\n",
            "[Epoch 1] TPU:3 [Train] Avg. loss: 0.721, Total time: 4.088(s/epoch), Avg. time: 0.041(s/iter)\n",
            "[Epoch 1] TPU:0 [Train] Avg. loss: 0.763, Total time: 7.097(s/epoch), Avg. time: 0.086(s/iter)\n",
            "[Epoch 1] TPU:6 [Train] Avg. loss: 0.740, Total time: 4.302(s/epoch), Avg. time: 0.046(s/iter)\n",
            "[Epoch 1] TPU:7 [Train] Avg. loss: 0.748, Total time: 4.079(s/epoch), Avg. time: 0.041(s/iter)\n",
            "[Epoch 1] TPU:0 [Test] Avg. loss: 0.1802, Accuracy: 1181/1250 (94.48%)\n",
            "[Epoch 1] TPU:5 [Test] Avg. loss: 0.1863, Accuracy: 1174/1250 (93.92%)\n",
            "[Epoch 1] TPU:4 [Test] Avg. loss: 0.1538, Accuracy: 1197/1250 (95.76%)\n",
            "[Epoch 1] TPU:7 [Test] Avg. loss: 0.1862, Accuracy: 1178/1250 (94.24%)\n",
            "[Epoch 1] TPU:2 [Test] Avg. loss: 0.1832, Accuracy: 1173/1250 (93.84%)\n",
            "[Epoch 1] TPU:6 [Test] Avg. loss: 0.1912, Accuracy: 1172/1250 (93.76%)\n",
            "[Epoch 1] TPU:3 [Test] Avg. loss: 0.1735, Accuracy: 1172/1250 (93.76%)\n",
            "[Epoch 1] TPU:1 [Test] Avg. loss: 0.1912, Accuracy: 1180/1250 (94.40%)\n",
            "[Epoch 2] TPU:0 [Train] Avg. loss: 0.176, Total time: 2.600(s/epoch), Avg. time: 0.018(s/iter)\n",
            "[Epoch 2] TPU:1 [Train] Avg. loss: 0.191, Total time: 2.596(s/epoch), Avg. time: 0.017(s/iter)\n",
            "[Epoch 2] TPU:2 [Train] Avg. loss: 0.177, Total time: 2.601(s/epoch), Avg. time: 0.017(s/iter)\n",
            "[Epoch 2] TPU:6 [Train] Avg. loss: 0.183, Total time: 2.601(s/epoch), Avg. time: 0.017(s/iter)\n",
            "[Epoch 2] TPU:7 [Train] Avg. loss: 0.170, Total time: 2.602(s/epoch), Avg. time: 0.017(s/iter)\n",
            "[Epoch 2] TPU:4 [Train] Avg. loss: 0.185, Total time: 2.603(s/epoch), Avg. time: 0.017(s/iter)\n",
            "[Epoch 2] TPU:3 [Train] Avg. loss: 0.161, Total time: 2.601(s/epoch), Avg. time: 0.017(s/iter)\n",
            "[Epoch 2] TPU:5 [Train] Avg. loss: 0.174, Total time: 2.604(s/epoch), Avg. time: 0.017(s/iter)\n",
            "[Epoch 2] TPU:6 [Test] Avg. loss: 0.1055, Accuracy: 1210/1250 (96.80%)\n",
            "[Epoch 2] TPU:1 [Test] Avg. loss: 0.0971, Accuracy: 1209/1250 (96.72%)\n",
            "[Epoch 2] TPU:2 [Test] Avg. loss: 0.0948, Accuracy: 1218/1250 (97.44%)\n",
            "[Epoch 2] TPU:3 [Test] Avg. loss: 0.0876, Accuracy: 1209/1250 (96.72%)\n",
            "[Epoch 2] TPU:0 [Test] Avg. loss: 0.1000, Accuracy: 1212/1250 (96.96%)\n",
            "[Epoch 2] TPU:7 [Test] Avg. loss: 0.1053, Accuracy: 1206/1250 (96.48%)\n",
            "[Epoch 2] TPU:4 [Test] Avg. loss: 0.0765, Accuracy: 1219/1250 (97.52%)\n",
            "[Epoch 2] TPU:5 [Test] Avg. loss: 0.0932, Accuracy: 1213/1250 (97.04%)\n",
            "[Epoch 3] TPU:5 [Train] Avg. loss: 0.089, Total time: 1.498(s/epoch), Avg. time: 0.016(s/iter)\n",
            "[Epoch 3] TPU:6 [Train] Avg. loss: 0.095, Total time: 1.610(s/epoch), Avg. time: 0.017(s/iter)\n",
            "[Epoch 3] TPU:3 [Train] Avg. loss: 0.083, Total time: 1.582(s/epoch), Avg. time: 0.017(s/iter)\n",
            "[Epoch 3] TPU:4 [Train] Avg. loss: 0.099, Total time: 1.464(s/epoch), Avg. time: 0.016(s/iter)\n",
            "[Epoch 3] TPU:2 [Train] Avg. loss: 0.093, Total time: 1.596(s/epoch), Avg. time: 0.016(s/iter)\n",
            "[Epoch 3] TPU:0 [Train] Avg. loss: 0.093, Total time: 1.577(s/epoch), Avg. time: 0.016(s/iter)\n",
            "[Epoch 3] TPU:7 [Train] Avg. loss: 0.092, Total time: 1.577(s/epoch), Avg. time: 0.017(s/iter)\n",
            "[Epoch 3] TPU:1 [Train] Avg. loss: 0.100, Total time: 1.597(s/epoch), Avg. time: 0.017(s/iter)\n",
            "[Epoch 3] TPU:3 [Test] Avg. loss: 0.0662, Accuracy: 1223/1250 (97.84%)\n",
            "[Epoch 3] TPU:6 [Test] Avg. loss: 0.0779, Accuracy: 1218/1250 (97.44%)\n",
            "[Epoch 3] TPU:7 [Test] Avg. loss: 0.0695, Accuracy: 1225/1250 (98.00%)\n",
            "[Epoch 3] TPU:0 [Test] Avg. loss: 0.0821, Accuracy: 1216/1250 (97.28%)\n",
            "[Epoch 3] TPU:2 [Test] Avg. loss: 0.0628, Accuracy: 1224/1250 (97.92%)\n",
            "[Epoch 3] TPU:1 [Test] Avg. loss: 0.0713, Accuracy: 1223/1250 (97.84%)\n",
            "[Epoch 3] TPU:4 [Test] Avg. loss: 0.0525, Accuracy: 1230/1250 (98.40%)\n",
            "[Epoch 3] TPU:5 [Test] Avg. loss: 0.0697, Accuracy: 1226/1250 (98.08%)\n",
            "[Epoch 4] TPU:1 [Train] Avg. loss: 0.063, Total time: 1.541(s/epoch), Avg. time: 0.016(s/iter)\n",
            "[Epoch 4] TPU:7 [Train] Avg. loss: 0.061, Total time: 1.569(s/epoch), Avg. time: 0.020(s/iter)\n",
            "[Epoch 4] TPU:2 [Train] Avg. loss: 0.059, Total time: 1.552(s/epoch), Avg. time: 0.016(s/iter)\n",
            "[Epoch 4] TPU:6 [Train] Avg. loss: 0.060, Total time: 1.569(s/epoch), Avg. time: 0.017(s/iter)\n",
            "[Epoch 4] TPU:4 [Train] Avg. loss: 0.062, Total time: 1.287(s/epoch), Avg. time: 0.016(s/iter)\n",
            "[Epoch 4] TPU:3 [Train] Avg. loss: 0.050, Total time: 1.585(s/epoch), Avg. time: 0.019(s/iter)\n",
            "[Epoch 4] TPU:0 [Train] Avg. loss: 0.060, Total time: 1.562(s/epoch), Avg. time: 0.017(s/iter)\n",
            "[Epoch 4] TPU:5 [Train] Avg. loss: 0.055, Total time: 1.416(s/epoch), Avg. time: 0.015(s/iter)\n",
            "[Epoch 4] TPU:1 [Test] Avg. loss: 0.0597, Accuracy: 1226/1250 (98.08%)\n",
            "[Epoch 4] TPU:6 [Test] Avg. loss: 0.0704, Accuracy: 1218/1250 (97.44%)\n",
            "[Epoch 4] TPU:2 [Test] Avg. loss: 0.0555, Accuracy: 1228/1250 (98.24%)\n",
            "[Epoch 4] TPU:4 [Test] Avg. loss: 0.0444, Accuracy: 1232/1250 (98.56%)\n",
            "[Epoch 4] TPU:5 [Test] Avg. loss: 0.0623, Accuracy: 1229/1250 (98.32%)\n",
            "[Epoch 4] TPU:7 [Test] Avg. loss: 0.0602, Accuracy: 1229/1250 (98.32%)\n",
            "[Epoch 4] TPU:0 [Test] Avg. loss: 0.0743, Accuracy: 1218/1250 (97.44%)\n",
            "[Epoch 4] TPU:3 [Test] Avg. loss: 0.0580, Accuracy: 1222/1250 (97.76%)\n",
            "[Epoch 5] TPU:3 [Train] Avg. loss: 0.033, Total time: 1.376(s/epoch), Avg. time: 0.014(s/iter)\n",
            "[Epoch 5] TPU:1 [Train] Avg. loss: 0.044, Total time: 1.531(s/epoch), Avg. time: 0.019(s/iter)\n",
            "[Epoch 5] TPU:2 [Train] Avg. loss: 0.041, Total time: 1.523(s/epoch), Avg. time: 0.016(s/iter)\n",
            "[Epoch 5] TPU:0 [Train] Avg. loss: 0.043, Total time: 1.513(s/epoch), Avg. time: 0.017(s/iter)\n",
            "[Epoch 5] TPU:7 [Train] Avg. loss: 0.042, Total time: 1.514(s/epoch), Avg. time: 0.016(s/iter)\n",
            "[Epoch 5] TPU:5 [Train] Avg. loss: 0.038, Total time: 1.516(s/epoch), Avg. time: 0.018(s/iter)\n",
            "[Epoch 5] TPU:6 [Train] Avg. loss: 0.041, Total time: 1.526(s/epoch), Avg. time: 0.017(s/iter)\n",
            "[Epoch 5] TPU:4 [Train] Avg. loss: 0.043, Total time: 1.519(s/epoch), Avg. time: 0.018(s/iter)\n",
            "[Epoch 5] TPU:1 [Test] Avg. loss: 0.0545, Accuracy: 1228/1250 (98.24%)\n",
            "[Epoch 5] TPU:6 [Test] Avg. loss: 0.0668, Accuracy: 1219/1250 (97.52%)\n",
            "[Epoch 5] TPU:3 [Test] Avg. loss: 0.0536, Accuracy: 1223/1250 (97.84%)\n",
            "[Epoch 5] TPU:0 [Test] Avg. loss: 0.0703, Accuracy: 1223/1250 (97.84%)\n",
            "[Epoch 5] TPU:2 [Test] Avg. loss: 0.0530, Accuracy: 1232/1250 (98.56%)\n",
            "[Epoch 5] TPU:7 [Test] Avg. loss: 0.0571, Accuracy: 1231/1250 (98.48%)\n",
            "[Epoch 5] TPU:5 [Test] Avg. loss: 0.0597, Accuracy: 1230/1250 (98.40%)\n",
            "[Epoch 5] TPU:4 [Test] Avg. loss: 0.0405, Accuracy: 1234/1250 (98.72%)\n",
            "[Epoch 6] TPU:3 [Train] Avg. loss: 0.024, Total time: 1.453(s/epoch), Avg. time: 0.015(s/iter)\n",
            "[Epoch 6] TPU:0 [Train] Avg. loss: 0.033, Total time: 1.441(s/epoch), Avg. time: 0.016(s/iter)\n",
            "[Epoch 6] TPU:7 [Train] Avg. loss: 0.031, Total time: 1.419(s/epoch), Avg. time: 0.015(s/iter)\n",
            "[Epoch 6] TPU:6 [Train] Avg. loss: 0.031, Total time: 1.456(s/epoch), Avg. time: 0.015(s/iter)\n",
            "[Epoch 6] TPU:4 [Train] Avg. loss: 0.033, Total time: 1.418(s/epoch), Avg. time: 0.016(s/iter)\n",
            "[Epoch 6] TPU:1 [Train] Avg. loss: 0.034, Total time: 1.488(s/epoch), Avg. time: 0.016(s/iter)\n",
            "[Epoch 6] TPU:5 [Train] Avg. loss: 0.028, Total time: 1.417(s/epoch), Avg. time: 0.015(s/iter)\n",
            "[Epoch 6] TPU:2 [Train] Avg. loss: 0.030, Total time: 1.429(s/epoch), Avg. time: 0.015(s/iter)\n",
            "[Epoch 6] TPU:2 [Test] Avg. loss: 0.0522, Accuracy: 1232/1250 (98.56%)\n",
            "[Epoch 6] TPU:6 [Test] Avg. loss: 0.0649, Accuracy: 1222/1250 (97.76%)\n",
            "[Epoch 6] TPU:1 [Test] Avg. loss: 0.0518, Accuracy: 1228/1250 (98.24%)\n",
            "[Epoch 6] TPU:7 [Test] Avg. loss: 0.0562, Accuracy: 1231/1250 (98.48%)\n",
            "[Epoch 6] TPU:4 [Test] Avg. loss: 0.0385, Accuracy: 1234/1250 (98.72%)\n",
            "[Epoch 6] TPU:0 [Test] Avg. loss: 0.0688, Accuracy: 1224/1250 (97.92%)\n",
            "[Epoch 6] TPU:5 [Test] Avg. loss: 0.0584, Accuracy: 1228/1250 (98.24%)\n",
            "[Epoch 6] TPU:3 [Test] Avg. loss: 0.0514, Accuracy: 1226/1250 (98.08%)\n",
            "[Epoch 7] TPU:1 [Train] Avg. loss: 0.028, Total time: 1.459(s/epoch), Avg. time: 0.016(s/iter)\n",
            "[Epoch 7] TPU:4 [Train] Avg. loss: 0.026, Total time: 1.417(s/epoch), Avg. time: 0.016(s/iter)\n",
            "[Epoch 7] TPU:0 [Train] Avg. loss: 0.027, Total time: 1.398(s/epoch), Avg. time: 0.016(s/iter)\n",
            "[Epoch 7] TPU:7 [Train] Avg. loss: 0.025, Total time: 1.453(s/epoch), Avg. time: 0.016(s/iter)\n",
            "[Epoch 7] TPU:6 [Train] Avg. loss: 0.025, Total time: 1.462(s/epoch), Avg. time: 0.016(s/iter)\n",
            "[Epoch 7] TPU:5 [Train] Avg. loss: 0.022, Total time: 1.395(s/epoch), Avg. time: 0.016(s/iter)\n",
            "[Epoch 7] TPU:2 [Train] Avg. loss: 0.024, Total time: 1.468(s/epoch), Avg. time: 0.017(s/iter)\n",
            "[Epoch 7] TPU:3 [Train] Avg. loss: 0.019, Total time: 1.394(s/epoch), Avg. time: 0.016(s/iter)\n",
            "[Epoch 7] TPU:6 [Test] Avg. loss: 0.0642, Accuracy: 1227/1250 (98.16%)\n",
            "[Epoch 7] TPU:7 [Test] Avg. loss: 0.0565, Accuracy: 1231/1250 (98.48%)\n",
            "[Epoch 7] TPU:2 [Test] Avg. loss: 0.0520, Accuracy: 1230/1250 (98.40%)\n",
            "[Epoch 7] TPU:1 [Test] Avg. loss: 0.0508, Accuracy: 1229/1250 (98.32%)\n",
            "[Epoch 7] TPU:5 [Test] Avg. loss: 0.0585, Accuracy: 1229/1250 (98.32%)\n",
            "[Epoch 7] TPU:4 [Test] Avg. loss: 0.0379, Accuracy: 1233/1250 (98.64%)\n",
            "[Epoch 7] TPU:3 [Test] Avg. loss: 0.0506, Accuracy: 1227/1250 (98.16%)\n",
            "[Epoch 7] TPU:0 [Test] Avg. loss: 0.0688, Accuracy: 1224/1250 (97.92%)\n",
            "[Epoch 8] TPU:5 [Train] Avg. loss: 0.019, Total time: 1.473(s/epoch), Avg. time: 0.015(s/iter)\n",
            "[Epoch 8] TPU:7 [Train] Avg. loss: 0.021, Total time: 1.524(s/epoch), Avg. time: 0.015(s/iter)\n",
            "[Epoch 8] TPU:2 [Train] Avg. loss: 0.020, Total time: 1.516(s/epoch), Avg. time: 0.015(s/iter)\n",
            "[Epoch 8] TPU:3 [Train] Avg. loss: 0.016, Total time: 1.407(s/epoch), Avg. time: 0.015(s/iter)\n",
            "[Epoch 8] TPU:6 [Train] Avg. loss: 0.021, Total time: 1.525(s/epoch), Avg. time: 0.017(s/iter)\n",
            "[Epoch 8] TPU:4 [Train] Avg. loss: 0.022, Total time: 1.451(s/epoch), Avg. time: 0.015(s/iter)\n",
            "[Epoch 8] TPU:0 [Train] Avg. loss: 0.023, Total time: 1.417(s/epoch), Avg. time: 0.015(s/iter)\n",
            "[Epoch 8] TPU:1 [Train] Avg. loss: 0.024, Total time: 1.503(s/epoch), Avg. time: 0.016(s/iter)\n",
            "[Epoch 8] TPU:3 [Test] Avg. loss: 0.0504, Accuracy: 1227/1250 (98.16%)\n",
            "[Epoch 8] TPU:1 [Test] Avg. loss: 0.0506, Accuracy: 1230/1250 (98.40%)\n",
            "[Epoch 8] TPU:5 [Test] Avg. loss: 0.0590, Accuracy: 1230/1250 (98.40%)\n",
            "[Epoch 8] TPU:7 [Test] Avg. loss: 0.0570, Accuracy: 1232/1250 (98.56%)\n",
            "[Epoch 8] TPU:2 [Test] Avg. loss: 0.0519, Accuracy: 1230/1250 (98.40%)\n",
            "[Epoch 8] TPU:6 [Test] Avg. loss: 0.0642, Accuracy: 1226/1250 (98.08%)\n",
            "[Epoch 8] TPU:0 [Test] Avg. loss: 0.0690, Accuracy: 1224/1250 (97.92%)\n",
            "[Epoch 8] TPU:4 [Test] Avg. loss: 0.0378, Accuracy: 1234/1250 (98.72%)\n",
            "[Epoch 9] TPU:2 [Train] Avg. loss: 0.018, Total time: 1.544(s/epoch), Avg. time: 0.016(s/iter)\n",
            "[Epoch 9] TPU:0 [Train] Avg. loss: 0.021, Total time: 1.519(s/epoch), Avg. time: 0.016(s/iter)\n",
            "[Epoch 9] TPU:5 [Train] Avg. loss: 0.017, Total time: 1.550(s/epoch), Avg. time: 0.016(s/iter)\n",
            "[Epoch 9] TPU:6 [Train] Avg. loss: 0.019, Total time: 1.542(s/epoch), Avg. time: 0.016(s/iter)\n",
            "[Epoch 9] TPU:4 [Train] Avg. loss: 0.020, Total time: 1.508(s/epoch), Avg. time: 0.017(s/iter)\n",
            "[Epoch 9] TPU:7 [Train] Avg. loss: 0.018, Total time: 1.548(s/epoch), Avg. time: 0.016(s/iter)\n",
            "[Epoch 9] TPU:3 [Train] Avg. loss: 0.014, Total time: 1.565(s/epoch), Avg. time: 0.018(s/iter)\n",
            "[Epoch 9] TPU:1 [Train] Avg. loss: 0.022, Total time: 1.553(s/epoch), Avg. time: 0.016(s/iter)\n",
            "[Epoch 9] TPU:2 [Test] Avg. loss: 0.0517, Accuracy: 1230/1250 (98.40%)\n",
            "[Epoch 9] TPU:3 [Test] Avg. loss: 0.0503, Accuracy: 1227/1250 (98.16%)\n",
            "[Epoch 9] TPU:6 [Test] Avg. loss: 0.0643, Accuracy: 1226/1250 (98.08%)\n",
            "[Epoch 9] TPU:0 [Test] Avg. loss: 0.0694, Accuracy: 1225/1250 (98.00%)\n",
            "[Epoch 9] TPU:7 [Test] Avg. loss: 0.0576, Accuracy: 1232/1250 (98.56%)\n",
            "[Epoch 9] TPU:1 [Test] Avg. loss: 0.0505, Accuracy: 1230/1250 (98.40%)\n",
            "[Epoch 9] TPU:5 [Test] Avg. loss: 0.0592, Accuracy: 1230/1250 (98.40%)\n",
            "[Epoch 9] TPU:4 [Test] Avg. loss: 0.0377, Accuracy: 1234/1250 (98.72%)\n",
            "[Epoch 10] TPU:1 [Train] Avg. loss: 0.020, Total time: 1.492(s/epoch), Avg. time: 0.015(s/iter)\n",
            "[Epoch 10] TPU:4 [Train] Avg. loss: 0.018, Total time: 1.463(s/epoch), Avg. time: 0.015(s/iter)\n",
            "[Epoch 10] TPU:7 [Train] Avg. loss: 0.017, Total time: 1.417(s/epoch), Avg. time: 0.015(s/iter)\n",
            "[Epoch 10] TPU:3 [Train] Avg. loss: 0.013, Total time: 1.521(s/epoch), Avg. time: 0.016(s/iter)\n",
            "[Epoch 10] TPU:2 [Train] Avg. loss: 0.017, Total time: 1.527(s/epoch), Avg. time: 0.018(s/iter)\n",
            "[Epoch 10] TPU:6 [Train] Avg. loss: 0.017, Total time: 1.509(s/epoch), Avg. time: 0.016(s/iter)\n",
            "[Epoch 10] TPU:5 [Train] Avg. loss: 0.015, Total time: 1.435(s/epoch), Avg. time: 0.015(s/iter)\n",
            "[Epoch 10] TPU:0 [Train] Avg. loss: 0.020, Total time: 1.500(s/epoch), Avg. time: 0.016(s/iter)\n",
            "[Epoch 10] TPU:4 [Test] Avg. loss: 0.0376, Accuracy: 1234/1250 (98.72%)\n",
            "TPU:4, Avg. time: 0.017(s/iter), std:0.017, Avg. time: 2.259(s/epoch), std:1.012\n",
            "[Epoch 10] TPU:5 [Test] Avg. loss: 0.0596, Accuracy: 1230/1250 (98.40%)\n",
            "TPU:5, Avg. time: 0.018(s/iter), std:0.024, Avg. time: 2.309(s/epoch), std:1.144\n",
            "[Epoch 10] TPU:7 [Test] Avg. loss: 0.0579, Accuracy: 1232/1250 (98.56%)\n",
            "TPU:7, Avg. time: 0.019(s/iter), std:0.037, Avg. time: 2.351(s/epoch), std:1.255\n",
            "[Epoch 10] TPU:2 [Test] Avg. loss: 0.0515, Accuracy: 1230/1250 (98.40%)\n",
            "TPU:2, Avg. time: 0.018(s/iter), std:0.025, Avg. time: 2.311(s/epoch), std:1.132\n",
            "[Epoch 10] TPU:3 [Test] Avg. loss: 0.0504, Accuracy: 1227/1250 (98.16%)\n",
            "[Epoch 10] TPU:6 [Test] Avg. loss: 0.0644, Accuracy: 1226/1250 (98.08%)\n",
            "TPU:3, Avg. time: 0.019(s/iter), std:0.037, Avg. time: 2.355(s/epoch), std:1.258\n",
            "TPU:6, Avg. time: 0.019(s/iter), std:0.049, Avg. time: 2.376(s/epoch), std:1.315\n",
            "[Epoch 10] TPU:0 [Test] Avg. loss: 0.0697, Accuracy: 1224/1250 (97.92%)\n",
            "TPU:0, Avg. time: 0.023(s/iter), std:0.134, Avg. time: 2.656(s/epoch), std:2.139\n",
            "[Epoch 10] TPU:1 [Test] Avg. loss: 0.0507, Accuracy: 1230/1250 (98.40%)\n",
            "TPU:1, Avg. time: 0.018(s/iter), std:0.021, Avg. time: 2.282(s/epoch), std:1.042\n",
            "Train time: 32.868s\n"
          ],
          "name": "stdout"
        }
      ]
    }
  ]
}